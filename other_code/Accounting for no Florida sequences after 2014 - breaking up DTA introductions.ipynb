{
 "cells": [
  {
   "cell_type": "code",
   "execution_count": 1,
   "id": "3bb73241",
   "metadata": {},
   "outputs": [],
   "source": [
    "import dendropy\n",
    "import numpy as np\n",
    "from collections import defaultdict\n",
    "from collections import Counter\n",
    "import seaborn as sns\n",
    "import matplotlib.pyplot as plt\n",
    "import pandas as pd\n",
    "import datetime as dt\n",
    "import csv"
   ]
  },
  {
   "cell_type": "code",
   "execution_count": 2,
   "id": "c4ab8d90",
   "metadata": {},
   "outputs": [],
   "source": [
    "north_east = [\"Connecticut\", \"Massachusetts\", \"New_Hampshire\", \"Vermont\", \"Rhode_Island\", \"New_York\"]\n"
   ]
  },
  {
   "cell_type": "code",
   "execution_count": 3,
   "id": "d4b59c8a",
   "metadata": {},
   "outputs": [],
   "source": [
    "def find_change_north_east(nde, sample_dict):\n",
    "    if nde.taxon:\n",
    "        if nde.annotations['state'].value in north_east:\n",
    "            sample_dict[\"sample\"] = (nde.annotations['height'].value, nde.annotations['height_95%_HPD'].value)\n",
    "            if nde.parent_node.annotations['state'].value not in north_east:\n",
    "                sample_dict[\"change_node\"] = nde\n",
    "                sample_dict[\"change_time\"] = (nde.annotations['height'].value, nde.annotations['height_95%_HPD'].value)\n",
    "                return sample_dict\n",
    "            else:\n",
    "                find_change_north_east(nde.parent_node, sample_dict)\n",
    "                return sample_dict\n",
    "            \n",
    "        else:\n",
    "            return\n",
    "    else:\n",
    "        if nde.parent_node.annotations['state'].value not in north_east:\n",
    "            sample_dict[\"change_node\"] = nde\n",
    "            sample_dict[\"change_time\"] = (nde.annotations['height'].value, nde.annotations['height_95%_HPD'].value)\n",
    "            return sample_dict\n",
    "        else:\n",
    "            find_change_north_east(nde.parent_node, sample_dict)\n",
    "            return sample_dict\n",
    "        \n",
    "def get_clusters(tree):\n",
    "    \n",
    "    path_dict = defaultdict(dict)\n",
    "    for leaf in tree.leaf_iter():\n",
    "        path_dict[leaf.taxon.label] = find_change_north_east(leaf, {})\n",
    "                            \n",
    "    clusters = defaultdict(list)\n",
    "    for tip, change in path_dict.items():\n",
    "        if change:\n",
    "            if not change['change_node'].taxon:\n",
    "                clusters[object_to_count[change['change_node']]].append(tip)\n",
    "            else:\n",
    "                clusters[change['change_node'].taxon.label].append(tip)\n",
    "\n",
    "    return clusters, path_dict\n",
    "\n"
   ]
  },
  {
   "cell_type": "code",
   "execution_count": 4,
   "id": "63396b18",
   "metadata": {},
   "outputs": [],
   "source": [
    "def path_to_tip(nde, lst):\n",
    "    \n",
    "    for child in nde.child_node_iter():\n",
    "#         if child.annotations['state'].value in north_east:\n",
    "        if not child.taxon:\n",
    "            lst.append(child)\n",
    "            lst = path_to_tip(child, lst)\n",
    "        else:\n",
    "            lst.append(child)\n",
    "#         else:\n",
    "#             continue\n",
    "                           \n",
    "    return lst"
   ]
  },
  {
   "cell_type": "code",
   "execution_count": 6,
   "id": "2500f708",
   "metadata": {},
   "outputs": [],
   "source": [
    "MCC_tree_from_DTA = \"\"\n",
    "\n",
    "tree = dendropy.Tree.get(path=MCC_tree_from_DTA, schema=\"nexus\", preserve_underscores=True)"
   ]
  },
  {
   "cell_type": "code",
   "execution_count": 7,
   "id": "a180ab20",
   "metadata": {},
   "outputs": [],
   "source": [
    "object_dict = {}\n",
    "object_to_count = {}\n",
    "count = 0\n",
    "for nde in tree.preorder_node_iter():\n",
    "    if nde.taxon:\n",
    "        object_dict[nde.taxon.label] = nde\n",
    "    else:\n",
    "        object_dict[count] = nde\n",
    "        object_to_count[nde] = count\n",
    "        count += 1\n"
   ]
  },
  {
   "cell_type": "code",
   "execution_count": 8,
   "id": "f18c8354",
   "metadata": {},
   "outputs": [],
   "source": [
    "for nde in tree.preorder_node_iter():\n",
    "    if not nde.taxon:\n",
    "        nde.annotations[\"node_count\"] = object_to_count[nde]\n",
    "\n",
    "tree.write(path=\"annotated_nodes.tree\", schema=\"nexus\")"
   ]
  },
  {
   "cell_type": "code",
   "execution_count": 9,
   "id": "ce645e2f",
   "metadata": {},
   "outputs": [
    {
     "name": "stderr",
     "output_type": "stream",
     "text": [
      "/var/folders/pd/bjtp4xt916vfpszlps7rr5_c0000gn/T/ipykernel_92383/2807798569.py:27: CriticalDeprecationWarning: Deprecated since DendroPy 4: 'leaf_iter()' will no longer be supported in future releases; use 'leaf_node_iter()' instead\n",
      "  for leaf in tree.leaf_iter():\n"
     ]
    }
   ],
   "source": [
    "clusters, path_dict = get_clusters(tree)"
   ]
  },
  {
   "cell_type": "code",
   "execution_count": 14,
   "id": "0339dd8f",
   "metadata": {},
   "outputs": [
    {
     "name": "stdout",
     "output_type": "stream",
     "text": [
      "61\n"
     ]
    }
   ],
   "source": [
    "print(len(clusters))"
   ]
  },
  {
   "cell_type": "markdown",
   "id": "df0c9c15",
   "metadata": {},
   "source": [
    "## checking if any go out again and into Florida"
   ]
  },
  {
   "cell_type": "code",
   "execution_count": 33,
   "id": "e3b5f22c",
   "metadata": {
    "scrolled": true
   },
   "outputs": [
    {
     "name": "stdout",
     "output_type": "stream",
     "text": [
      "333\n",
      "318\n"
     ]
    }
   ],
   "source": [
    "# do any sequences downstream of the mrca live in florida\n",
    "first_path_to_tip = {}\n",
    "for number in clusters.keys():\n",
    "    mrca = object_dict[number]\n",
    "    paths = path_to_tip(mrca, [])\n",
    "    first_path_to_tip[mrca] = paths\n",
    "        \n",
    "for nde, path in first_path_to_tip.items():\n",
    "    for ele in path:\n",
    "        if ele.annotations['state'].value == \"Florida\":\n",
    "            print(object_to_count[ele])\n",
    "            print(object_to_count[nde])\n",
    "            \n",
    "clusters[319] = clusters[318]\n",
    "del clusters[318]"
   ]
  },
  {
   "cell_type": "markdown",
   "id": "7d60ec07",
   "metadata": {},
   "source": [
    "## get average branch lens"
   ]
  },
  {
   "cell_type": "code",
   "execution_count": 35,
   "id": "f3789380",
   "metadata": {},
   "outputs": [],
   "source": [
    "pre_2014_clusters = {}\n",
    "post_2014_clusters = {}\n",
    "for nde, tips in clusters.items():\n",
    "    dates = []\n",
    "    pre_count = 0\n",
    "    for tip in tips:\n",
    "        dates.append(int(tip.split(\"|\")[1].split(\"-\")[0]))\n",
    "    for i in dates:\n",
    "        if i <= 2014:\n",
    "            pre_count += 1\n",
    "    \n",
    "    frac = pre_count/len(dates)\n",
    "    if frac >= 0.5:\n",
    "        pre_2014_clusters[nde] = tips   \n",
    "    else:\n",
    "        post_2014_clusters[nde] = tips"
   ]
  },
  {
   "cell_type": "code",
   "execution_count": 36,
   "id": "9fe8da26",
   "metadata": {},
   "outputs": [],
   "source": [
    "def get_branch_lens(nde, tmrca, len_list):\n",
    "    \n",
    "    if nde.parent_node:\n",
    "        if nde != tmrca:\n",
    "            start_branch = float(nde.parent_node.annotations['height'].value)\n",
    "            end_branch = float(nde.annotations['height'].value)\n",
    "            length = start_branch - end_branch\n",
    "            len_list.append(length)\n",
    "            get_branch_lens(nde.parent_node, tmrca, len_list)\n",
    "            return len_list\n",
    "        else:\n",
    "            return len_list\n",
    "        \n",
    "    else:\n",
    "        print(\"ERROR: root reached\")"
   ]
  },
  {
   "cell_type": "code",
   "execution_count": 37,
   "id": "823d9d53",
   "metadata": {},
   "outputs": [],
   "source": [
    "branch_lens = defaultdict(list)\n",
    "\n",
    "for nde, tips in pre_2014_clusters.items():\n",
    "    tmrca = object_dict[nde]\n",
    "    if len(tips) >= 3:\n",
    "        len_list = []\n",
    "        for tip in tips:\n",
    "            len_list = get_branch_lens(object_dict[tip], tmrca, len_list)\n",
    "\n",
    "        branch_lens[nde] = len_list"
   ]
  },
  {
   "cell_type": "code",
   "execution_count": 38,
   "id": "2cdb3b4d",
   "metadata": {},
   "outputs": [],
   "source": [
    "averages = []\n",
    "for nde, lens in branch_lens.items():\n",
    "    averages.append(np.mean(lens))\n",
    "average_len = (np.mean(averages))\n",
    "sd = (np.std(averages))\n",
    "threshold = average_len + (2*sd)"
   ]
  },
  {
   "cell_type": "code",
   "execution_count": 39,
   "id": "7c661849",
   "metadata": {},
   "outputs": [
    {
     "name": "stdout",
     "output_type": "stream",
     "text": [
      "1.2801052195263216\n",
      "1.5238178159442852\n",
      "4.327740851414892\n"
     ]
    }
   ],
   "source": [
    "print(average_len)\n",
    "print(sd)\n",
    "print(threshold)"
   ]
  },
  {
   "cell_type": "markdown",
   "id": "11bf0d84",
   "metadata": {},
   "source": [
    "## using len to chop up intros"
   ]
  },
  {
   "cell_type": "code",
   "execution_count": 40,
   "id": "5b161e7c",
   "metadata": {},
   "outputs": [],
   "source": [
    "def chop_up_clusters(nde, current_mrca, original_mrca):\n",
    "    \n",
    "    branch_len = float(nde.parent_node.annotations['height'].value) - float(nde.annotations['height'].value)\n",
    "    if branch_len < threshold:        \n",
    "        if nde.parent_node != original_mrca:\n",
    "            current_mrca = nde.parent_node\n",
    "            current_mrca = chop_up_clusters(nde.parent_node, current_mrca, original_mrca)\n",
    "            return current_mrca\n",
    "        else:\n",
    "            current_mrca = original_mrca\n",
    "            return current_mrca \n",
    "    else:\n",
    "        current_mrca = nde\n",
    "        return current_mrca\n",
    "    \n"
   ]
  },
  {
   "cell_type": "code",
   "execution_count": 41,
   "id": "6550f91b",
   "metadata": {},
   "outputs": [],
   "source": [
    "new_mrca_dict = defaultdict(list)\n",
    "tip_to_new_mrca = {}\n",
    "for number, tips in post_2014_clusters.items():\n",
    "    mrca = object_dict[number]\n",
    "    if not mrca.taxon:\n",
    "        for tip in tips:\n",
    "            tip_obj = object_dict[tip]\n",
    "            new_mrca = chop_up_clusters(tip_obj, tip_obj, mrca)\n",
    "            new_mrca_dict[new_mrca].append(tip)\n",
    "            tip_to_new_mrca[tip] = new_mrca\n",
    "    else:\n",
    "        new_mrca_dict[mrca].append(number)\n",
    "        tip_to_new_mrca[number] = mrca\n",
    "            \n",
    "        "
   ]
  },
  {
   "cell_type": "code",
   "execution_count": 42,
   "id": "7a6375e4",
   "metadata": {},
   "outputs": [],
   "source": [
    "pre_mrca_dict = defaultdict(list)\n",
    "tip_to_new_mrca = {}\n",
    "for number, tips in pre_2014_clusters.items():\n",
    "    mrca = object_dict[number]\n",
    "    if not mrca.taxon:\n",
    "        for tip in tips:\n",
    "            tip_obj = object_dict[tip]\n",
    "            new_mrca = chop_up_clusters(tip_obj, tip_obj, mrca)\n",
    "            pre_mrca_dict[new_mrca].append(tip)\n",
    "            tip_to_new_mrca[tip] = new_mrca\n",
    "    else:\n",
    "        pre_mrca_dict[mrca].append(number)\n",
    "        tip_to_new_mrca[number] = mrca"
   ]
  },
  {
   "cell_type": "code",
   "execution_count": 43,
   "id": "254b4d66",
   "metadata": {},
   "outputs": [
    {
     "name": "stdout",
     "output_type": "stream",
     "text": [
      "26\n",
      "19\n",
      "42\n",
      "49\n"
     ]
    }
   ],
   "source": [
    "print(len(new_mrca_dict))\n",
    "print(len(post_2014_clusters))\n",
    "print(len(pre_2014_clusters))\n",
    "print(len(pre_mrca_dict))"
   ]
  },
  {
   "cell_type": "code",
   "execution_count": 44,
   "id": "fddca5d4",
   "metadata": {},
   "outputs": [
    {
     "name": "stdout",
     "output_type": "stream",
     "text": [
      "0.47413355157917547\n",
      "0.166277858917552\n",
      "0.8066892694142795\n"
     ]
    }
   ],
   "source": [
    "#testing what this does to the pre-2014 clusters average branch len\n",
    "\n",
    "branch_lens = defaultdict(list)\n",
    "\n",
    "for nde, tips in pre_mrca_dict.items():\n",
    "#     tmrca = object_dict[nde]\n",
    "    tmrca = nde\n",
    "    if len(tips) > 3:\n",
    "        len_list = []\n",
    "        for tip in tips:\n",
    "            len_list = get_branch_lens(object_dict[tip], tmrca, len_list)\n",
    "\n",
    "        branch_lens[nde] = len_list\n",
    "        \n",
    "\n",
    "averages = []\n",
    "for nde, lens in branch_lens.items():\n",
    "    averages.append(np.mean(lens))\n",
    "average_len = (np.mean(averages))\n",
    "sd = (np.std(averages))\n",
    "threshold = average_len + (2*sd)\n",
    "\n",
    "print(average_len)\n",
    "print(sd)\n",
    "print(threshold)"
   ]
  },
  {
   "cell_type": "markdown",
   "id": "4b1ac335",
   "metadata": {},
   "source": [
    "## summarising"
   ]
  },
  {
   "cell_type": "code",
   "execution_count": 45,
   "id": "4cce4a15",
   "metadata": {},
   "outputs": [],
   "source": [
    "path_to_tips = {}\n",
    "for mrca in new_mrca_dict.keys():\n",
    "    paths = path_to_tip(mrca, [])\n",
    "    path_to_tips[mrca] = paths\n",
    "    \n",
    "for mrca in pre_mrca_dict.keys():\n",
    "    paths = path_to_tip(mrca, [])\n",
    "    path_to_tips[mrca] = paths"
   ]
  },
  {
   "cell_type": "code",
   "execution_count": 46,
   "id": "b28ce147",
   "metadata": {},
   "outputs": [],
   "source": [
    "in_cluster = []\n",
    "for k,v in path_to_tips.items():\n",
    "    in_cluster.append(k)\n",
    "    for i in v:\n",
    "        in_cluster.append(i)"
   ]
  },
  {
   "cell_type": "code",
   "execution_count": 47,
   "id": "3a3399b2",
   "metadata": {
    "scrolled": true
   },
   "outputs": [
    {
     "name": "stdout",
     "output_type": "stream",
     "text": [
      "683\n"
     ]
    }
   ],
   "source": [
    "print(len(in_cluster))"
   ]
  },
  {
   "cell_type": "markdown",
   "id": "98ccbdbf",
   "metadata": {},
   "source": [
    "## annotate tree with new introductions and writing to file"
   ]
  },
  {
   "cell_type": "code",
   "execution_count": 48,
   "id": "952e0f9a",
   "metadata": {},
   "outputs": [],
   "source": [
    "for nde in tree.preorder_node_iter():\n",
    "    if nde.parent_node:\n",
    "        if nde in in_cluster:\n",
    "            nde.annotations[\"new_transition\"] = \"North_East\"\n",
    "        else:\n",
    "            nde.annotations[\"new_transition\"] = \"Other\"\n",
    "    "
   ]
  },
  {
   "cell_type": "code",
   "execution_count": 49,
   "id": "adcd42d2",
   "metadata": {},
   "outputs": [],
   "source": [
    "tree.write(path=\"new_introductions.tree\", schema=\"nexus\")"
   ]
  },
  {
   "cell_type": "code",
   "execution_count": 50,
   "id": "e674c0b3",
   "metadata": {},
   "outputs": [],
   "source": [
    "\n",
    "\n",
    "with open(\"introduction_times.csv\", 'w') as fw:\n",
    "    fieldnames = [\"node_number\", \"node_height\", \"tips\"]\n",
    "    writer = csv.DictWriter(fw, fieldnames = fieldnames)\n",
    "    writer.writeheader()\n",
    "    \n",
    "    for mrca, tips in new_mrca_dict.items():\n",
    "        write_dict = {}\n",
    "        if not mrca.taxon:\n",
    "            write_dict[\"node_number\"] = object_to_count[mrca]\n",
    "        else:\n",
    "            write_dict[\"node_number\"] = mrca.taxon.label\n",
    "        write_dict[\"node_height\"] = mrca.annotations['height'].value\n",
    "        write_dict[\"tips\"] = \";\".join([x for x in tips])\n",
    "        \n",
    "        writer.writerow(write_dict)\n",
    "        \n",
    "    for mrca, tips in pre_mrca_dict.items():\n",
    "        write_dict = {}\n",
    "        if not mrca.taxon:\n",
    "            write_dict[\"node_number\"] = object_to_count[mrca]\n",
    "        else:\n",
    "            write_dict[\"node_number\"] = mrca.taxon.label\n",
    "        write_dict[\"node_height\"] = mrca.annotations['height'].value\n",
    "        write_dict[\"tips\"] = \";\".join([x for x in tips])\n",
    "        \n",
    "        writer.writerow(write_dict)"
   ]
  },
  {
   "cell_type": "markdown",
   "id": "abfc9db9",
   "metadata": {},
   "source": [
    "## exploring those intros"
   ]
  },
  {
   "cell_type": "code",
   "execution_count": 51,
   "id": "107e1199",
   "metadata": {},
   "outputs": [
    {
     "data": {
      "image/png": "[encoded data removed]",
      "text/plain": [
       "<Figure size 416.625x360 with 1 Axes>"
      ]
     },
     "metadata": {
      "needs_background": "light"
     },
     "output_type": "display_data"
    }
   ],
   "source": [
    "## size\n",
    "old_sizes = []\n",
    "new_sizes = []\n",
    "df_dict = defaultdict(list)\n",
    "\n",
    "for k,v in post_2014_clusters.items():\n",
    "    old_sizes.append(len(v))\n",
    "    df_dict['dataset'].append(\"old\")\n",
    "    df_dict[\"size\"].append(len(v))\n",
    "\n",
    "for v in new_mrca_dict.values():\n",
    "    new_sizes.append(len(v))\n",
    "    df_dict['dataset'].append(\"new\")\n",
    "    df_dict[\"size\"].append(len(v))\n",
    "\n",
    "df = pd.DataFrame(df_dict)\n",
    "\n",
    "sns_plot = sns.displot(df, x='size', hue=\"dataset\", kind='kde')\n",
    "\n",
    "plt.show()\n",
    "    "
   ]
  },
  {
   "cell_type": "code",
   "execution_count": 52,
   "id": "7813b126",
   "metadata": {},
   "outputs": [
    {
     "data": {
      "image/png": "[encoded data removed]",
      "text/plain": [
       "<Figure size 416.625x360 with 1 Axes>"
      ]
     },
     "metadata": {
      "needs_background": "light"
     },
     "output_type": "display_data"
    }
   ],
   "source": [
    "## timings\n",
    "old_dists = []\n",
    "df_dict = defaultdict(list)\n",
    "for nde, tips in post_2014_clusters.items():\n",
    "    nde = object_dict[nde]\n",
    "    heights = []\n",
    "    for tip in tips:\n",
    "        height = float(object_dict[tip].annotations['height'].value)\n",
    "        heights.append(height)\n",
    "        \n",
    "    earliest = max(heights)\n",
    "    diff = float(nde.annotations['height'].value) - earliest \n",
    "    \n",
    "    df_dict['dataset'].append(\"old\")\n",
    "    df_dict[\"time\"].append(diff)\n",
    "    \n",
    "for nde, tips in new_mrca_dict.items():\n",
    "    heights = []\n",
    "    for tip in tips:\n",
    "        height = float(object_dict[tip].annotations['height'].value)\n",
    "        heights.append(height)\n",
    "        \n",
    "    earliest = max(heights)\n",
    "    diff = float(nde.annotations['height'].value) - earliest  \n",
    "    \n",
    "    df_dict['dataset'].append(\"new\")\n",
    "    df_dict[\"time\"].append(diff)\n",
    "    \n",
    "df = pd.DataFrame(df_dict)\n",
    "\n",
    "sns_plot = sns.displot(df, x='time', hue=\"dataset\", kind='kde')\n",
    "\n",
    "\n",
    "plt.show()"
   ]
  },
  {
   "cell_type": "code",
   "execution_count": null,
   "id": "85e70ac7",
   "metadata": {},
   "outputs": [],
   "source": []
  }
 ],
 "metadata": {
  "kernelspec": {
   "display_name": "Python 3 (ipykernel)",
   "language": "python",
   "name": "python3"
  },
  "language_info": {
   "codemirror_mode": {
    "name": "ipython",
    "version": 3
   },
   "file_extension": ".py",
   "mimetype": "text/x-python",
   "name": "python",
   "nbconvert_exporter": "python",
   "pygments_lexer": "ipython3",
   "version": "3.9.16"
  }
 },
 "nbformat": 4,
 "nbformat_minor": 5
}
