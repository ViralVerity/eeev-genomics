{
 "cells": [
  {
   "cell_type": "code",
   "execution_count": 1,
   "id": "c89b312b",
   "metadata": {},
   "outputs": [],
   "source": [
    "import csv\n",
    "from collections import defaultdict\n",
    "from collections import Counter\n",
    "import baltic\n",
    "import matplotlib.pyplot as plt\n",
    "import geopandas as gpd\n",
    "import tqdm\n",
    "import numpy as np\n",
    "import pandas as pd\n",
    "import dendropy\n",
    "import seaborn as sns\n",
    "import scipy\n",
    "import matplotlib.patches as mpatches\n",
    "import matplotlib as mpl\n",
    "import datetime as dt\n",
    "from epiweeks import Week, Year\n",
    "\n",
    "font = {'family' : 'Helvetica',\n",
    "'weight' : 'bold',\n",
    "'size' : 18}\n",
    "mpl.rcParams.update({\"svg.fonttype\": 'none', 'text.usetex': False})"
   ]
  },
  {
   "cell_type": "code",
   "execution_count": 2,
   "id": "bd947762",
   "metadata": {},
   "outputs": [
    {
     "data": {
      "text/html": [
       "<svg  width=\"385\" height=\"55\"><rect x=\"0\" y=\"0\" width=\"55\" height=\"55\" style=\"fill:#618669;stroke-width:2;stroke:rgb(255,255,255)\"/><rect x=\"55\" y=\"0\" width=\"55\" height=\"55\" style=\"fill:#4e5e48;stroke-width:2;stroke:rgb(255,255,255)\"/><rect x=\"110\" y=\"0\" width=\"55\" height=\"55\" style=\"fill:#f1c081;stroke-width:2;stroke:rgb(255,255,255)\"/><rect x=\"165\" y=\"0\" width=\"55\" height=\"55\" style=\"fill:#c08a46;stroke-width:2;stroke:rgb(255,255,255)\"/><rect x=\"220\" y=\"0\" width=\"55\" height=\"55\" style=\"fill:#a83b17;stroke-width:2;stroke:rgb(255,255,255)\"/><rect x=\"275\" y=\"0\" width=\"55\" height=\"55\" style=\"fill:#862e19;stroke-width:2;stroke:rgb(255,255,255)\"/><rect x=\"330\" y=\"0\" width=\"55\" height=\"55\" style=\"fill:#62270c;stroke-width:2;stroke:rgb(255,255,255)\"/></svg>"
      ],
      "text/plain": [
       "[(0.3803921568627451, 0.5254901960784314, 0.4117647058823529),\n",
       " (0.3058823529411765, 0.3686274509803922, 0.2823529411764706),\n",
       " (0.9450980392156862, 0.7529411764705882, 0.5058823529411764),\n",
       " (0.7529411764705882, 0.5411764705882353, 0.27450980392156865),\n",
       " (0.6588235294117647, 0.23137254901960785, 0.09019607843137255),\n",
       " (0.5254901960784314, 0.1803921568627451, 0.09803921568627451),\n",
       " (0.3843137254901961, 0.15294117647058825, 0.047058823529411764)]"
      ]
     },
     "execution_count": 2,
     "metadata": {},
     "output_type": "execute_result"
    }
   ],
   "source": [
    "hex_codes = [\n",
    "    \"#618669\",\n",
    "    \"#4E5E48\",\n",
    "    \"#F1C081\",\n",
    "    \"#C08A46\",\n",
    "    \"#A83B17\",\n",
    "    \"#862E19\",\n",
    "    \"#62270C\"\n",
    "]\n",
    "\n",
    "state_colours = {\"NY_light\":\"#618669\", \"NY_dark\":\"#4E5E48\", \"New_York_light\": \"#618669\", \"New_York_dark\": \"#4E5E48\",\n",
    "                 \"MA_light\":\"#F1C081\", \"MA_dark\":\"#C08A46\", \"Massachusetts_light\":\"#F1C081\", \"Massachusetts_dark\":\"#C08A46\",\n",
    "                \"CT_light\":\"#A83B17\", \"CT_dark\":\"#862E19\", \"Connecticut_light\":\"#A83B17\", \"Connecticut_dark\":\"#862E19\",\n",
    "                \"other\":\"#62270C\", \"Other\":\"#62270C\",\n",
    "                \"New_York\":\"#618669\", \"Connecticut\":\"#a83c18\", \"Massachusetts\": \"#F1C081\"}\n",
    "\n",
    "\n",
    "col_pal = sns.color_palette(hex_codes)\n",
    "col_pal"
   ]
  },
  {
   "cell_type": "code",
   "execution_count": 3,
   "id": "aa16d5bc",
   "metadata": {},
   "outputs": [],
   "source": [
    "tree = dendropy.Tree.get(path=\"../phylogenetic_data/new_introductions.tree\", schema=\"nexus\", preserve_underscores=True)\n",
    "\n",
    "object_dict = {}\n",
    "count_dict = {}\n",
    "for nde in tree.preorder_node_iter():\n",
    "    if not nde.taxon:\n",
    "        count_dict[nde] = nde.annotations['node_count'].value\n",
    "        object_dict[nde.annotations['node_count'].value] = nde\n",
    "    else:\n",
    "        object_dict[nde.taxon.label] = nde"
   ]
  },
  {
   "cell_type": "code",
   "execution_count": 4,
   "id": "5705e96c",
   "metadata": {},
   "outputs": [],
   "source": [
    "clusters = defaultdict(list)\n",
    "with open(\"../phylogenetic_data/introduction_times.csv\") as f:\n",
    "    data = csv.DictReader(f)\n",
    "    for l in data:\n",
    "        clusters[l['node_number']] = l['tips'].split(\";\")"
   ]
  },
  {
   "cell_type": "code",
   "execution_count": 5,
   "id": "a7e1a804",
   "metadata": {},
   "outputs": [],
   "source": [
    "distances = {}\n",
    "persistences = {}\n",
    "for mrca, tips in clusters.items():\n",
    "    if len(tips) >= 3:\n",
    "        heights = {i: float(object_dict[i].annotations['height'].value) for i in tips}\n",
    "        earliest = max(heights.items(), key=lambda x: x[1]) #which is max height\n",
    "        latest = min(heights.items(), key=lambda x:x[1]) #min height in cluster\n",
    "        distance = float(object_dict[mrca].annotations['height'].value) - earliest[1]\n",
    "        persistence = float(object_dict[mrca].annotations['height'].value) - latest[1]\n",
    "        distances[mrca] = distance\n",
    "        persistences[mrca] = persistence"
   ]
  },
  {
   "cell_type": "markdown",
   "id": "62e5bfb9",
   "metadata": {},
   "source": [
    "## distributions"
   ]
  },
  {
   "cell_type": "code",
   "execution_count": 7,
   "id": "533ac9b2",
   "metadata": {},
   "outputs": [
    {
     "name": "stdout",
     "output_type": "stream",
     "text": [
      "75\n",
      "Mean time from introduction to first sample = 1.1683955642177644\n",
      "lower hpd = 0.4595744084070954\n",
      "upper hpd = 3.27358274608243\n",
      "longest time = ('137', 3.97218790561237)\n",
      "shortest time = ('193', 0.3789083906392925)\n",
      "\n",
      "\n",
      "Mean time from first sample to last sample = 2.808149948019083\n",
      "lower hpd = 0.647114883003632\n",
      "upper hpd = 7.493046265681911\n",
      "longest time = ('213', 8.610346497867923)\n",
      "shortest time = ('78', 0.5271521012595072)\n"
     ]
    }
   ],
   "source": [
    "print(len(clusters))\n",
    "dist_list = list(distances.values())\n",
    "print(f'Mean time from introduction to first sample = {np.mean(dist_list)}')\n",
    "print(f'lower hpd = {np.percentile(dist_list, 2.5)}')\n",
    "print(f'upper hpd = {np.percentile(dist_list, 97.5)}')\n",
    "print(f'longest time = {max(distances.items(), key=lambda x: x[1])}')\n",
    "print(f'shortest time = {min(distances.items(), key=lambda x: x[1])}')\n",
    "print(\"\\n\")\n",
    "pers_list = list(persistences.values())\n",
    "print(f'Mean time from introudction to last sample = {np.mean(pers_list)}')\n",
    "print(f'lower hpd = {np.percentile(pers_list, 2.5)}')\n",
    "print(f'upper hpd = {np.percentile(pers_list, 97.5)}')\n",
    "print(f'longest time = {max(persistences.items(), key=lambda x: x[1])}')\n",
    "print(f'shortest time = {min(persistences.items(), key=lambda x: x[1])}')\n",
    "\n",
    "##plot this as a distribution\n",
    "## also plot persistence as a distribution"
   ]
  },
  {
   "cell_type": "code",
   "execution_count": 8,
   "id": "3fdb3e1d",
   "metadata": {},
   "outputs": [
    {
     "name": "stderr",
     "output_type": "stream",
     "text": [
      "/Users/verityhill/miniconda3/lib/python3.9/site-packages/seaborn/distributions.py:2619: FutureWarning: `distplot` is a deprecated function and will be removed in a future version. Please adapt your code to use either `displot` (a figure-level function with similar flexibility) or `histplot` (an axes-level function for histograms).\n",
      "  warnings.warn(msg, FutureWarning)\n"
     ]
    },
    {
     "data": {
      "image/png": "[encoded data removed]",
      "text/plain": [
       "<Figure size 360x360 with 1 Axes>"
      ]
     },
     "metadata": {
      "needs_background": "light"
     },
     "output_type": "display_data"
    }
   ],
   "source": [
    "fig, ax = plt.subplots(1,1, figsize=(5,5))\n",
    "\n",
    "sns.distplot(dist_list,ax=ax, kde_kws={'clip': (0.0, 6.0)})\n",
    "\n",
    "plt.savefig(\"../../figures/figure_3/surv_gap_distribution.png\", bbox_inches='tight')\n",
    "plt.savefig(\"../../figures/figure_3/surv_gap_distribution.pdf\", bbox_inches='tight')\n",
    "\n",
    "\n",
    "plt.show()"
   ]
  },
  {
   "cell_type": "code",
   "execution_count": 9,
   "id": "3bec690a",
   "metadata": {},
   "outputs": [
    {
     "name": "stderr",
     "output_type": "stream",
     "text": [
      "/Users/verityhill/miniconda3/lib/python3.9/site-packages/seaborn/distributions.py:2619: FutureWarning: `distplot` is a deprecated function and will be removed in a future version. Please adapt your code to use either `displot` (a figure-level function with similar flexibility) or `histplot` (an axes-level function for histograms).\n",
      "  warnings.warn(msg, FutureWarning)\n"
     ]
    },
    {
     "data": {
      "image/png": "[encoded data removed]",
      "text/plain": [
       "<Figure size 360x360 with 1 Axes>"
      ]
     },
     "metadata": {
      "needs_background": "light"
     },
     "output_type": "display_data"
    }
   ],
   "source": [
    "fig, ax = plt.subplots(1,1, figsize=(5,5))\n",
    "\n",
    "sns.distplot(pers_list,ax=ax,  kde_kws={'clip': (0.0, 11.0)})\n",
    "\n",
    "\n",
    "plt.show()"
   ]
  },
  {
   "cell_type": "markdown",
   "id": "a8b1571d",
   "metadata": {},
   "source": [
    "## over time"
   ]
  },
  {
   "cell_type": "code",
   "execution_count": 3,
   "id": "f66ee805",
   "metadata": {},
   "outputs": [],
   "source": [
    "location_dict = {}\n",
    "with open(\"../phylogenetic_data/location_outbreaks.csv\") as f:\n",
    "    data = csv.DictReader(f)\n",
    "    for l in data:\n",
    "        location_dict[l['mrca']] = l['locations'].split(\";\")"
   ]
  },
  {
   "cell_type": "code",
   "execution_count": 9,
   "id": "643fe2c5",
   "metadata": {
    "scrolled": false
   },
   "outputs": [
    {
     "data": {
      "image/png": "[encoded data removed]",
      "text/plain": [
       "<Figure size 720x720 with 1 Axes>"
      ]
     },
     "metadata": {
      "needs_background": "light"
     },
     "output_type": "display_data"
    }
   ],
   "source": [
    "fig, ax = plt.subplots(1,1, figsize = (10,10))\n",
    "\n",
    "mrt = 2019.79\n",
    "y = 0\n",
    "pal = {}\n",
    "\n",
    "sorted_distances = {k: v for k, v in sorted(distances.items(), key=lambda item: float(object_dict[item[0]].annotations['height'].value), reverse=True)}\n",
    "for mrca, distance in sorted_distances.items():\n",
    "    y += 2\n",
    "    \n",
    "    node_height = float(object_dict[mrca].annotations['height'].value)\n",
    "    tip_height = node_height - distance\n",
    "    last_tip_height = tip_height - persistences[mrca]\n",
    "    \n",
    "    tip_date = mrt - tip_height\n",
    "    node_date = mrt - node_height\n",
    "    last_tip_date = mrt - last_tip_height\n",
    "    \n",
    "    \n",
    "    locations = location_dict[mrca]\n",
    "    if len(locations) == 1:\n",
    "        pal[locations[0]] = state_colours[locations[0]]\n",
    "        colour = state_colours[locations[0]]\n",
    "    else:\n",
    "        colour = \"#62270C\"\n",
    "        pal[\"multi_state\"] = colour\n",
    "        \n",
    "    ax.scatter(tip_date, y, color = colour, s=50)\n",
    "    ax.scatter(node_date, y, color = colour, s=50)\n",
    "    ax.scatter(last_tip_date, y, color = colour, s=50)\n",
    "    \n",
    "    ax.plot([node_date,tip_date], [y,y], color=colour, zorder=0)\n",
    "    ax.plot([tip_date,last_tip_date], [y,y], color=colour, zorder=0)\n",
    "    \n",
    "patch_list = []\n",
    "\n",
    "for group, code in pal.items():\n",
    "    patch_list.append(mpatches.Patch(color=code, label=group))\n",
    "ax.legend(handles=patch_list, loc=\"upper left\",fontsize=15,frameon=False)\n",
    "\n",
    "    \n",
    "ax.set_yticks([])\n",
    "\n",
    "plt.show()"
   ]
  },
  {
   "cell_type": "markdown",
   "id": "6f1aba27",
   "metadata": {},
   "source": [
    "## 2019 clusters"
   ]
  },
  {
   "cell_type": "code",
   "execution_count": 6,
   "id": "78c15345",
   "metadata": {},
   "outputs": [],
   "source": [
    "mrt = 2019.79"
   ]
  },
  {
   "cell_type": "code",
   "execution_count": 7,
   "id": "f738c622",
   "metadata": {},
   "outputs": [],
   "source": [
    "only_2019 = defaultdict(list)\n",
    "include_2019 = defaultdict(list)\n",
    "all_2019s = defaultdict(list)\n",
    "\n",
    "for k,v in clusters.items():\n",
    "    for seq in v:\n",
    "        year = seq.split(\"|\")[1].split(\"-\")[0]\n",
    "        if year == \"2019\":\n",
    "            all_2019s[k] = v\n",
    "            \n",
    "for k,v in all_2019s.items():\n",
    "    only_2019_bool = True\n",
    "    for seq in v:\n",
    "        year = seq.split(\"|\")[1].split(\"-\")[0]\n",
    "        if year != \"2019\":\n",
    "            include_2019[k] = v\n",
    "            only_2019_bool = False\n",
    "    if only_2019_bool:\n",
    "        only_2019[k] = v\n",
    "            "
   ]
  },
  {
   "cell_type": "code",
   "execution_count": 11,
   "id": "152894a1",
   "metadata": {},
   "outputs": [
    {
     "name": "stdout",
     "output_type": "stream",
     "text": [
      "20\n",
      "16\n",
      "4\n"
     ]
    }
   ],
   "source": [
    "print(len(all_2019s))\n",
    "print(len(only_2019))\n",
    "print(len(include_2019))"
   ]
  },
  {
   "cell_type": "code",
   "execution_count": 12,
   "id": "7844bfb4",
   "metadata": {},
   "outputs": [
    {
     "name": "stdout",
     "output_type": "stream",
     "text": [
      "9\n",
      "4\n"
     ]
    }
   ],
   "source": [
    "count_singletons = 0\n",
    "count_cluster = 0\n",
    "for i, v in only_2019.items():\n",
    "    if len(v) == 1:\n",
    "        count_singletons += 1\n",
    "    elif len(v) >= 3:\n",
    "        count_cluster +=1 \n",
    "        \n",
    "print((count_singletons))\n",
    "print((count_cluster))"
   ]
  },
  {
   "cell_type": "code",
   "execution_count": 20,
   "id": "74af97e8",
   "metadata": {},
   "outputs": [
    {
     "name": "stdout",
     "output_type": "stream",
     "text": [
      "4\n"
     ]
    }
   ],
   "source": [
    "print(len(include_2019)"
   ]
  },
  {
   "cell_type": "code",
   "execution_count": 21,
   "id": "e92ca175",
   "metadata": {},
   "outputs": [
    {
     "name": "stdout",
     "output_type": "stream",
     "text": [
      "162 ['13866-19_S73_2019|2019-09-17', '18VX3174_S43_2018|2018-11-01', '18VX2715_S44_2018|2018-09-19', 'SL18-1204_S28_2018|2018-09-26']\n",
      "174 ['16370365_S13_2016|2016-08-17', 'RAB19ANI04511_S25_2019|2019-08-13', 'ARB18MS330453_S21_2018|2018-08-07', 'ARB18MS330394_S19_2018|2018-07-31', 'ARB17MS330746_S18_2017|2017-09-26', 'ARB18MS370301_S20_2018|2018-07-30', 'ARB17MS370250_S26_2017|2017-07-26', 'ARB17MS260236_S17_2017|2017-09-19']\n",
      "386 ['18341-18_S51_2018|2018-09-26', '13966-17_S46_2017|2017-10-05', '19350-18_S53_2018|2018-10-09', 'SL19-1516_S33_2019|2019-08-25', '17667-18_S50_2018|2018-09-19', '18694-18_S52_2018|2018-10-01', '14098-17_S47_2017|2017-10-11']\n",
      "394 ['14759-19_S80_2019|2019-09-30', '19VX2817_S42_2019|2019-08-28', '10229-19-19_S57_2019|2019-08-19', '14275-19_S74_2019|2019-09-23', '12004-19_S68_2019|2019-08-29', 'SL19-1219_S41_2019|2019-08-07', 'NM19-0698_S39_2019|2019-09-23', '9180-19_S55_2019|2019-08-08', 'ARB18MS350318_S22_2018|2018-09-20', 'SL18-1166_S27_2018|2018-09-17']\n"
     ]
    }
   ],
   "source": [
    "for k,v in include_2019.items():\n",
    "    print(k,v)"
   ]
  },
  {
   "cell_type": "code",
   "execution_count": 15,
   "id": "0905a2a7",
   "metadata": {},
   "outputs": [],
   "source": [
    "intro_2019 = []\n",
    "distance_2019 = []\n",
    "persistence_2019 = []\n",
    "larger_intro = []\n",
    "for k,v in all_2019s.items():\n",
    "    if len(v) >=3:\n",
    "        distance_2019.append(distances[k])\n",
    "        persistence_2019.append(persistences[k])\n",
    "        larger_intro.append(mrt - float(object_dict[k].annotations['height'].value))\n",
    "    \n",
    "    intro_2019.append(mrt - float(object_dict[k].annotations['height'].value))\n",
    "    "
   ]
  },
  {
   "cell_type": "code",
   "execution_count": 21,
   "id": "29dc6369",
   "metadata": {},
   "outputs": [
    {
     "name": "stdout",
     "output_type": "stream",
     "text": [
      "2018.7539977111733\n",
      "2019.1258615973704\n",
      "2015.8533885688134\n",
      "2017.549079114473\n"
     ]
    }
   ],
   "source": [
    "print(np.mean(intro_2019)) #including singletons\n",
    "print(max(larger_intro))\n",
    "print(min(larger_intro))\n",
    "print(np.mean(larger_intro))\n"
   ]
  },
  {
   "cell_type": "code",
   "execution_count": 19,
   "id": "0e311b7b",
   "metadata": {},
   "outputs": [
    {
     "name": "stdout",
     "output_type": "stream",
     "text": [
      "2015.8702010388174\n",
      "2019.0405287909637\n"
     ]
    }
   ],
   "source": [
    "print(np.percentile(larger_intro, 2.5))\n",
    "print(np.percentile(larger_intro, 97.5))"
   ]
  },
  {
   "cell_type": "code",
   "execution_count": 37,
   "id": "ee10e313",
   "metadata": {},
   "outputs": [
    {
     "name": "stdout",
     "output_type": "stream",
     "text": [
      "singleton 2019.576301369863\n",
      "singleton 2019.6557534246574\n",
      "multi 2019.1258615973704\n",
      "singleton 2019.79\n",
      "multi 2019.5603007017567\n",
      "singleton 2019.6749315068491\n",
      "singleton 2019.6502739726027\n",
      "multi 2019.4465512470158\n",
      "singleton 2019.6557534246574\n",
      "singleton 2019.6475342465753\n",
      "singleton 2019.7269863013698\n",
      "singleton 2019.5543835616438\n"
     ]
    }
   ],
   "source": [
    "for k,v in all_2019s.items():\n",
    "    intro = (mrt - float(object_dict[k].annotations['height'].value))\n",
    "    if intro >= 2019:\n",
    "        if len(v) == 1:\n",
    "            print(f\"singleton {intro}\")\n",
    "        else:\n",
    "            print(f\"multi {intro}\")"
   ]
  },
  {
   "cell_type": "code",
   "execution_count": 52,
   "id": "f166d3d2",
   "metadata": {},
   "outputs": [],
   "source": [
    "non_2019_distances = []\n",
    "non_2019_persistences = []\n",
    "for k,v in distances.items():\n",
    "    if k not in all_2019s.keys():\n",
    "        non_2019_distances.append(v)\n",
    "        non_2019_persistences.append(persistences[k])"
   ]
  },
  {
   "cell_type": "code",
   "execution_count": 50,
   "id": "34168f05",
   "metadata": {},
   "outputs": [
    {
     "name": "stdout",
     "output_type": "stream",
     "text": [
      "1.143258843492824\n",
      "3.2165778160722858\n",
      "0.4451631858118484\n"
     ]
    }
   ],
   "source": [
    "# print(np.mean(distance_2019))\n",
    "# print(np.percentile(distance_2019, 97.5))\n",
    "# print(np.percentile(distance_2019, 2.5))\n",
    "print(np.mean(non_2019_distances))\n",
    "print(np.percentile(non_2019_distances, 97.5))\n",
    "print(np.percentile(non_2019_distances, 2.5))"
   ]
  },
  {
   "cell_type": "code",
   "execution_count": 53,
   "id": "ed923ec8",
   "metadata": {},
   "outputs": [
    {
     "name": "stdout",
     "output_type": "stream",
     "text": [
      "2.1494825293625537\n",
      "3.890036088720774\n",
      "0.5271521012595072\n",
      "3.10089102297754\n",
      "7.850582339981433\n",
      "0.8294892174619544\n"
     ]
    }
   ],
   "source": [
    "print(np.mean(persistence_2019))\n",
    "print(np.percentile(persistence_2019, 97.5))\n",
    "print(np.percentile(persistence_2019, 2.5))\n",
    "print(np.mean(non_2019_persistences))\n",
    "print(np.percentile(non_2019_persistences, 97.5))\n",
    "print(np.percentile(non_2019_persistences, 2.5))"
   ]
  },
  {
   "cell_type": "code",
   "execution_count": null,
   "id": "5fe710c9",
   "metadata": {},
   "outputs": [],
   "source": []
  }
 ],
 "metadata": {
  "kernelspec": {
   "display_name": "Python 3 (ipykernel)",
   "language": "python",
   "name": "python3"
  },
  "language_info": {
   "codemirror_mode": {
    "name": "ipython",
    "version": 3
   },
   "file_extension": ".py",
   "mimetype": "text/x-python",
   "name": "python",
   "nbconvert_exporter": "python",
   "pygments_lexer": "ipython3",
   "version": "3.9.16"
  }
 },
 "nbformat": 4,
 "nbformat_minor": 5
}
