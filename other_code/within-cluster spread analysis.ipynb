{
 "cells": [
  {
   "cell_type": "code",
   "execution_count": 1,
   "id": "ffbcc258",
   "metadata": {},
   "outputs": [],
   "source": [
    "import csv\n",
    "import numpy as np\n",
    "import dendropy\n",
    "import geopandas as gpd\n",
    "from collections import defaultdict\n",
    "from collections import Counter"
   ]
  },
  {
   "cell_type": "code",
   "execution_count": 2,
   "id": "2bbfbf65",
   "metadata": {},
   "outputs": [],
   "source": [
    "location_dict = defaultdict(dict)\n",
    "with open(\"../genomic_data/study_dataset.csv\") as f:\n",
    "    data = csv.DictReader(f)\n",
    "    for l in data:\n",
    "        location_dict[l['fasta_name']] = {\"state\":l['state'], \"county\":l['county'], \"site\":l['site']}\n",
    "        \n",
    "        "
   ]
  },
  {
   "cell_type": "code",
   "execution_count": 3,
   "id": "45d17a72",
   "metadata": {},
   "outputs": [],
   "source": [
    "north_east = [\"Connecticut\", \"Massachusetts\", \"New_Hampshire\", \"Vermont\", \"Rhode_Island\", \"New_York\"]\n"
   ]
  },
  {
   "cell_type": "code",
   "execution_count": 4,
   "id": "a16b75f6",
   "metadata": {},
   "outputs": [],
   "source": [
    "def find_change_individual(nde, sample_dict, location, annotation):\n",
    "    if nde.taxon:\n",
    "        if nde.annotations[annotation].value == location:\n",
    "            sample_dict[\"sample\"] = (nde.annotations['height'].value, nde.annotations['height_95%_HPD'].value)\n",
    "            if nde.parent_node.annotations[annotation].value != location:\n",
    "                sample_dict[\"change_node\"] = nde.parent_node\n",
    "                sample_dict[\"change_time\"] = (nde.parent_node.annotations['height'].value, nde.parent_node.annotations['height_95%_HPD'].value)\n",
    "                return sample_dict\n",
    "            else:\n",
    "                find_change_individual(nde.parent_node, sample_dict, location)\n",
    "                return sample_dict\n",
    "            \n",
    "        else:\n",
    "            return\n",
    "    else:\n",
    "        if nde.parent_node.annotations[annotation].value != location:\n",
    "            sample_dict[\"change_node\"] = nde.parent_node\n",
    "            sample_dict[\"change_time\"] = (nde.parent_node.annotations['height'].value, nde.parent_node.annotations['height_95%_HPD'].value)\n",
    "            return sample_dict\n",
    "        else:\n",
    "            find_change_individual(nde.parent_node, sample_dict, location)\n",
    "            return sample_dict\n",
    "        \n",
    "        \n",
    "def find_change_north_east(nde, sample_dict):\n",
    "    if nde.taxon:\n",
    "        if nde.annotations['state'].value in north_east:\n",
    "            sample_dict[\"sample\"] = (nde.annotations['height'].value, nde.annotations['height_95%_HPD'].value)\n",
    "            if nde.parent_node.annotations['state'].value not in north_east:\n",
    "                sample_dict[\"change_node\"] = nde.parent_node\n",
    "                sample_dict[\"change_time\"] = (nde.parent_node.annotations['height'].value, nde.parent_node.annotations['height_95%_HPD'].value)\n",
    "                return sample_dict\n",
    "            else:\n",
    "                find_change_north_east(nde.parent_node, sample_dict)\n",
    "                return sample_dict\n",
    "            \n",
    "        else:\n",
    "            return\n",
    "    else:\n",
    "        if nde.parent_node.annotations['state'].value not in north_east:\n",
    "            sample_dict[\"change_node\"] = nde.parent_node\n",
    "            sample_dict[\"change_time\"] = (nde.parent_node.annotations['height'].value, nde.parent_node.annotations['height_95%_HPD'].value)\n",
    "            return sample_dict\n",
    "        else:\n",
    "            find_change_north_east(nde.parent_node, sample_dict)\n",
    "            return sample_dict\n",
    "        \n",
    "        \n",
    "def find_new_change(nde, sample_dict):\n",
    "    \n",
    "    if nde.taxon:\n",
    "        if nde.annotations['new_transition'].value == \"North_East\":\n",
    "            sample_dict[\"sample\"] = (nde.annotations['height'].value, nde.annotations['height_95%_HPD'].value)\n",
    "            if nde.parent_node.annotations['new_transition'].value != \"North_East\":\n",
    "                sample_dict[\"change_node\"] = nde.parent_node\n",
    "                sample_dict[\"change_time\"] = (nde.parent_node.annotations['height'].value, nde.parent_node.annotations['height_95%_HPD'].value)\n",
    "                return sample_dict\n",
    "            else:\n",
    "                sample_dict = find_new_change(nde.parent_node, sample_dict)\n",
    "                return sample_dict\n",
    "            \n",
    "        else:\n",
    "            return\n",
    "    else:\n",
    "        if nde.annotations['new_transition'].value != \"North_East\":\n",
    "            sample_dict[\"change_node\"] = nde.parent_node\n",
    "            sample_dict[\"change_time\"] = (nde.parent_node.annotations['height'].value, nde.parent_node.annotations['height_95%_HPD'].value)\n",
    "            return sample_dict\n",
    "        else:\n",
    "            find_change_north_east(nde.parent_node, sample_dict)\n",
    "            return sample_dict\n",
    "        \n",
    "def get_clusters(tree, change_function, state=None):\n",
    "    \n",
    "    path_dict = defaultdict(dict)\n",
    "    for leaf in tree.leaf_iter():\n",
    "        if state:\n",
    "            sample_dict = change_function(leaf, {}, state)\n",
    "        else:\n",
    "            sample_dict = change_function(leaf, {})\n",
    "        path_dict[leaf.taxon.label] = sample_dict\n",
    "                            \n",
    "    clusters = defaultdict(list)\n",
    "    for tip, change in path_dict.items():\n",
    "        if change:\n",
    "            clusters[change['change_node']].append(tip)\n",
    "\n",
    "    return clusters, path_dict"
   ]
  },
  {
   "cell_type": "code",
   "execution_count": 6,
   "id": "f72751ae",
   "metadata": {},
   "outputs": [],
   "source": [
    "#tree that is output from the chopping up introductions script - ie in \"breaking up DTA introductions\"\n",
    "tree = dendropy.Tree.get(path=\"new_introductions.tree\", schema=\"nexus\", preserve_underscores=True)"
   ]
  },
  {
   "cell_type": "code",
   "execution_count": 7,
   "id": "15a989c6",
   "metadata": {},
   "outputs": [
    {
     "name": "stdout",
     "output_type": "stream",
     "text": [
      "65\n"
     ]
    },
    {
     "name": "stderr",
     "output_type": "stream",
     "text": [
      "/var/folders/pd/bjtp4xt916vfpszlps7rr5_c0000gn/T/ipykernel_35938/2990361805.py:76: CriticalDeprecationWarning: Deprecated since DendroPy 4: 'leaf_iter()' will no longer be supported in future releases; use 'leaf_node_iter()' instead\n",
      "  for leaf in tree.leaf_iter():\n"
     ]
    }
   ],
   "source": [
    "ne_clusters, ne_path_dict = get_clusters(tree, find_new_change)\n",
    "print(len(ne_clusters))"
   ]
  },
  {
   "cell_type": "code",
   "execution_count": 8,
   "id": "8e42a0d7",
   "metadata": {},
   "outputs": [],
   "source": [
    "state_counts = defaultdict(dict)\n",
    "county_counts = defaultdict(dict)\n",
    "site_counts = defaultdict(dict)\n",
    "singletons = []\n",
    "for node, cluster in ne_clusters.items():\n",
    "    if len(cluster) > 1:\n",
    "        state_lst = []\n",
    "        county_lst = []\n",
    "        site_lst = []\n",
    "        for tip in cluster:\n",
    "            if location_dict[tip]['state'] != \"USA\":\n",
    "                state_lst.append(location_dict[tip][\"state\"])\n",
    "                county_lst.append(location_dict[tip][\"county\"])\n",
    "                site_lst.append(location_dict[tip]['site'])\n",
    "        state_counts[node] = Counter(state_lst)\n",
    "        county_counts[node] = Counter(county_lst)\n",
    "        site_counts[node] = Counter(site_lst)\n",
    "    else:\n",
    "        singletons.append(cluster[0])"
   ]
  },
  {
   "cell_type": "code",
   "execution_count": 9,
   "id": "cd1279fb",
   "metadata": {},
   "outputs": [],
   "source": [
    "multi_state_outbreaks = []\n",
    "multi_county_outbreaks = []\n",
    "single_county_outbreaks = []\n",
    "for k,v in state_counts.items():\n",
    "    if len(v) > 1:\n",
    "        multi_state_outbreaks.append(k)\n",
    "    else:\n",
    "        if len(county_counts[k]) > 1: #only those without counties have only 1\n",
    "            multi_county_outbreaks.append(k)\n",
    "        else:\n",
    "            single_county_outbreaks.append(k)"
   ]
  },
  {
   "cell_type": "code",
   "execution_count": 10,
   "id": "e8d65c64",
   "metadata": {},
   "outputs": [],
   "source": [
    "def path_to_tip(nde, lst):\n",
    "    \n",
    "    for child in nde.child_node_iter():\n",
    "        if child.annotations['state'].value in north_east:\n",
    "            if not child.taxon:\n",
    "                lst.append(child)\n",
    "                lst = path_to_tip(child, lst)\n",
    "            else:\n",
    "                lst.append(child.taxon.label)\n",
    "        else:\n",
    "            continue\n",
    "            \n",
    "    return lst"
   ]
  },
  {
   "cell_type": "code",
   "execution_count": 12,
   "id": "243bdaa6",
   "metadata": {},
   "outputs": [],
   "source": [
    "multi_states = defaultdict(dict)\n",
    "for nde in multi_state_outbreaks:\n",
    "    loc_dict = defaultdict(list)\n",
    "    mrcas = {}\n",
    "    paths = {}\n",
    "    polyphyletic = {}\n",
    "    spillover = {}\n",
    "    poss_monos = []\n",
    "    monos = set()\n",
    "    \n",
    "    for tip in ne_clusters[nde]:\n",
    "        loc_dict[location_dict[tip]['state']].append(tip)\n",
    "    for state, tips in loc_dict.items():\n",
    "        mrcas[state] = tree.mrca(taxon_labels=tips) \n",
    "    for mrca in mrcas.values():\n",
    "        paths[mrca] = path_to_tip(mrca, [])\n",
    "            \n",
    "    for state, mrca in mrcas.items():\n",
    "        for state2, mrca2 in mrcas.items():\n",
    "            if state != state2:\n",
    "                if mrca == mrca2:\n",
    "                    polyphyletic[state] = state2\n",
    "                else:\n",
    "                    poss_monos.append((state,state2))\n",
    "                                        \n",
    "    for state_pairs in poss_monos:\n",
    "        mrca1 = mrcas[state_pairs[0]]\n",
    "        mrca2 = mrcas[state_pairs[1]]\n",
    "        \n",
    "        if float(mrca1.annotations['height'].value) > float(mrca2.annotations['height'].value):\n",
    "            if mrca2 not in paths[mrca1]:\n",
    "                monos.add(state_pairs[0])\n",
    "                monos.add(state_pairs[1])\n",
    "            else:\n",
    "                monos.add(state_pairs[1])\n",
    "                spillover[state_pairs[0]] = state_pairs[1]\n",
    "        else:\n",
    "            if mrca1 not in paths[mrca2]:\n",
    "                monos.add(state_pairs[1])\n",
    "                monos.add(state_pairs[0])\n",
    "            else:\n",
    "                monos.add(state_pairs[0])\n",
    "                spillover[state_pairs[1]] = state_pairs[0]\n",
    "                \n",
    "    \n",
    "    multi_states[nde][\"polys\"] = polyphyletic\n",
    "    multi_states[nde][\"monos\"] = monos\n",
    "    multi_states[nde][\"spillover\"] = spillover"
   ]
  },
  {
   "cell_type": "code",
   "execution_count": 13,
   "id": "f5dfea0c",
   "metadata": {},
   "outputs": [
    {
     "name": "stdout",
     "output_type": "stream",
     "text": [
      "{'New_York', 'Massachusetts'}\n",
      "{'Connecticut', 'New_York', 'Massachusetts'}\n",
      "{'Connecticut', 'New_York', 'Massachusetts'}\n",
      "{'Connecticut', 'New_York'}\n",
      "set()\n",
      "{'Connecticut', 'New_York'}\n",
      "{'New_York', 'Massachusetts'}\n",
      "{'Connecticut', 'Massachusetts'}\n",
      "{'New_Hampshire'}\n",
      "{'New_York', 'Massachusetts'}\n",
      "{'New_York', 'Vermont', 'Massachusetts'}\n",
      "{'New_York', 'Massachusetts'}\n"
     ]
    }
   ],
   "source": [
    "for k,v in multi_states.items():\n",
    "    print(v['monos'])"
   ]
  },
  {
   "cell_type": "code",
   "execution_count": 14,
   "id": "88de41db",
   "metadata": {},
   "outputs": [
    {
     "name": "stdout",
     "output_type": "stream",
     "text": [
      "{}\n",
      "{'Massachusetts': 'Connecticut'}\n",
      "{'Connecticut': 'Massachusetts'}\n",
      "{}\n",
      "{}\n",
      "{}\n",
      "{}\n",
      "{}\n",
      "{'Massachusetts': 'New_Hampshire'}\n",
      "{}\n",
      "{}\n",
      "{}\n"
     ]
    }
   ],
   "source": [
    "for k,v in multi_states.items():\n",
    "    print(v['spillover'])"
   ]
  },
  {
   "cell_type": "code",
   "execution_count": 15,
   "id": "a183f4ed",
   "metadata": {},
   "outputs": [
    {
     "name": "stdout",
     "output_type": "stream",
     "text": [
      "{}\n",
      "{}\n",
      "{}\n",
      "{}\n",
      "{'New_York': 'Massachusetts', 'Massachusetts': 'New_York'}\n",
      "{}\n",
      "{}\n",
      "{}\n",
      "{}\n",
      "{}\n",
      "{}\n",
      "{}\n"
     ]
    }
   ],
   "source": [
    "for k,v in multi_states.items():\n",
    "    print(v['polys'])"
   ]
  },
  {
   "cell_type": "code",
   "execution_count": 157,
   "id": "990f4dcc",
   "metadata": {},
   "outputs": [],
   "source": [
    "multi_counties = defaultdict(dict)\n",
    "for nde in multi_county_outbreaks:\n",
    "    loc_dict = defaultdict(list)\n",
    "    mrcas = {}\n",
    "    paths = {}\n",
    "    polyphyletic = {}\n",
    "    spillover = {}\n",
    "    poss_monos = set()\n",
    "    monos = set()\n",
    "    \n",
    "    for tip in clusters[nde]:\n",
    "        loc_dict[location_dict[tip]['county']].append(tip)\n",
    "    for county, tips in loc_dict.items():\n",
    "        if county != \"\":\n",
    "            mrcas[county] = tree.mrca(taxon_labels=tips) \n",
    "    for mrca in mrcas.values():\n",
    "        paths[mrca] = path_to_tip(mrca, [])\n",
    "            \n",
    "    for county, mrca in mrcas.items():\n",
    "        for county2, mrca2 in mrcas.items():\n",
    "            if county != county2:\n",
    "                if mrca == mrca2:\n",
    "                    polyphyletic[county] = county2\n",
    "                else:\n",
    "                    poss_monos.add(tuple(sorted((county,county2))))\n",
    "                  \n",
    "    for pairs in poss_monos:\n",
    "        mrca1 = mrcas[pairs[0]]\n",
    "        mrca2 = mrcas[pairs[1]]\n",
    "        \n",
    "        if float(mrca1.annotations['height'].value) > float(mrca2.annotations['height'].value):\n",
    "            if mrca2 not in paths[mrca1]:\n",
    "                monos.add(pairs[0])\n",
    "                monos.add(pairs[1])\n",
    "            else:\n",
    "                monos.add(pairs[1])\n",
    "                spillover[pairs[0]] = pairs[1]\n",
    "        else:\n",
    "            if mrca1 not in paths[mrca2]:\n",
    "                monos.add(pairs[1])\n",
    "                monos.add(pairs[0])\n",
    "            else:\n",
    "                monos.add(pairs[0])\n",
    "                spillover[pairs[1]] = pairs[0]\n",
    "                \n",
    "    \n",
    "    multi_counties[nde][\"polys\"] = polyphyletic\n",
    "    multi_counties[nde][\"monos\"] = monos\n",
    "    multi_counties[nde][\"spillover\"] = spillover"
   ]
  },
  {
   "cell_type": "code",
   "execution_count": 158,
   "id": "d9edf5bb",
   "metadata": {},
   "outputs": [
    {
     "name": "stdout",
     "output_type": "stream",
     "text": [
      "{}\n",
      "{}\n",
      "{}\n",
      "{}\n",
      "{'Middlesex': 'New_Haven', 'New_Haven': 'Middlesex'}\n",
      "{}\n",
      "{}\n",
      "{}\n",
      "{}\n",
      "{}\n",
      "{'Oswego': 'Madison', 'Onondaga': 'Madison', 'Madison': 'Onondaga'}\n",
      "{}\n",
      "{}\n",
      "{}\n",
      "{}\n",
      "{'Bristol': 'Plymouth', 'Plymouth': 'Bristol'}\n"
     ]
    }
   ],
   "source": [
    "for k,v in multi_counties.items():\n",
    "    print(v['polys'])"
   ]
  },
  {
   "cell_type": "code",
   "execution_count": 159,
   "id": "51944fa0",
   "metadata": {},
   "outputs": [
    {
     "name": "stdout",
     "output_type": "stream",
     "text": [
      "{}\n",
      "{'Plymouth': 'Bristol'}\n",
      "{'Bristol': 'Plymouth'}\n",
      "{'Onondaga': 'Oswego', 'Madison': 'Onondaga', 'Oneida': 'Oswego'}\n",
      "{}\n",
      "{'Onondaga': 'Madison'}\n",
      "{}\n",
      "{}\n",
      "{}\n",
      "{'Plymouth': 'Barnstable', 'Barnstable': 'Bristol'}\n",
      "{'Onondaga': 'Oneida', 'Oswego': 'Oneida', 'Madison': 'Oneida'}\n",
      "{}\n",
      "{}\n",
      "{}\n",
      "{}\n",
      "{'Plymouth': 'Norfolk', 'Bristol': 'Norfolk', 'Essex': 'Middlesex'}\n"
     ]
    }
   ],
   "source": [
    "for k,v in multi_counties.items():\n",
    "    print(v['spillover'])"
   ]
  },
  {
   "cell_type": "code",
   "execution_count": 161,
   "id": "3e5ef62d",
   "metadata": {},
   "outputs": [
    {
     "name": "stdout",
     "output_type": "stream",
     "text": [
      "{'Suffolk', 'Onondaga'}\n",
      "4\n",
      "{'Bristol'}\n",
      "6\n",
      "{'Worcester', 'Middlesex', 'Bristol', 'Barnstable', 'Plymouth', 'Norfolk'}\n",
      "22\n",
      "{'Oswego', 'Madison', 'Oneida', 'Chemung', 'Onondaga'}\n",
      "48\n",
      "set()\n",
      "6\n",
      "{'Oswego', 'Madison', 'Oneida', 'Wayne', 'Seneca', 'Onondaga'}\n",
      "16\n",
      "{'Windham', 'New_London', 'Fairfield', 'New_Haven'}\n",
      "5\n",
      "{'Essex', 'Worcester'}\n",
      "3\n",
      "{'New_London', 'Madison', 'Onondaga', 'St_Lawrence'}\n",
      "5\n",
      "{'Bristol', 'Barnstable'}\n",
      "6\n",
      "{'Montgomery', 'Oswego', 'Madison', 'Oneida', 'St._Lawrence', 'Onondaga'}\n",
      "65\n",
      "{'Orange', 'Sullivan', 'Wayne'}\n",
      "4\n",
      "{'Oswego', 'Onondaga', 'Steuben'}\n",
      "9\n",
      "{'New_London', 'Ostego'}\n",
      "10\n",
      "{'Oswego', 'Onondaga'}\n",
      "2\n",
      "{'Middlesex', 'Essex', 'Norfolk'}\n",
      "32\n"
     ]
    }
   ],
   "source": [
    "for k,v in multi_counties.items():\n",
    "    print(v['monos'])\n",
    "    print(len(clusters[k]))"
   ]
  },
  {
   "cell_type": "code",
   "execution_count": null,
   "id": "de5c6954",
   "metadata": {},
   "outputs": [],
   "source": []
  }
 ],
 "metadata": {
  "kernelspec": {
   "display_name": "Python 3 (ipykernel)",
   "language": "python",
   "name": "python3"
  },
  "language_info": {
   "codemirror_mode": {
    "name": "ipython",
    "version": 3
   },
   "file_extension": ".py",
   "mimetype": "text/x-python",
   "name": "python",
   "nbconvert_exporter": "python",
   "pygments_lexer": "ipython3",
   "version": "3.9.16"
  }
 },
 "nbformat": 4,
 "nbformat_minor": 5
}
