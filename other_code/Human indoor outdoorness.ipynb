{
 "cells": [
  {
   "cell_type": "code",
   "execution_count": 25,
   "id": "8c685c62",
   "metadata": {},
   "outputs": [],
   "source": [
    "import csv\n",
    "from collections import defaultdict\n",
    "from collections import Counter\n",
    "import datetime as dt\n",
    "import scipy.stats as stats\n",
    "import numpy as np\n",
    "\n",
    "import matplotlib.pyplot as plt\n",
    "import seaborn as sns\n",
    "import pandas as pd"
   ]
  },
  {
   "cell_type": "code",
   "execution_count": 2,
   "id": "2e3d10c0",
   "metadata": {},
   "outputs": [],
   "source": [
    "summer_months = [6,7,8,9]"
   ]
  },
  {
   "cell_type": "markdown",
   "id": "ae240bce",
   "metadata": {},
   "source": [
    "## setting up "
   ]
  },
  {
   "cell_type": "code",
   "execution_count": 3,
   "id": "8cac2f6a",
   "metadata": {},
   "outputs": [],
   "source": [
    "counties_2019 = set()\n",
    "historical_counties = set()\n",
    "\n",
    "county_level_cases_2019 = \"\"\n",
    "pre_2019_positives = \"\"\n",
    "\n",
    "with open(county_level_cases_2019) as f:\n",
    "    data = csv.DictReader(f)\n",
    "    for l in data:\n",
    "        if l['animal'] == \"Human\":\n",
    "            counties_2019.add(l['county'])\n",
    "\n",
    "\n",
    "with open(pre_2019_positives) as f:\n",
    "    data = csv.DictReader(f)\n",
    "    for l in data:\n",
    "        if l['species'] == \"human\":\n",
    "            historical_counties.add(l['county'])\n",
    "            "
   ]
  },
  {
   "cell_type": "code",
   "execution_count": 4,
   "id": "62397a46",
   "metadata": {},
   "outputs": [],
   "source": [
    "county_to_code = {}\n",
    "fips_codes = \"\"\n",
    "with open(fips_codes) as f:\n",
    "    data = csv.DictReader(f)\n",
    "    for l in data:\n",
    "        county_to_code[l['county'].replace(\" County\",\"\").replace(\" \",\"_\")] = l['code']"
   ]
  },
  {
   "cell_type": "code",
   "execution_count": 5,
   "id": "695ec01c",
   "metadata": {},
   "outputs": [],
   "source": [
    "for i in counties_2019:\n",
    "    if i not in county_to_code:\n",
    "        print(i)\n",
    "for i in historical_counties:\n",
    "    if i not in county_to_code:\n",
    "        print(i)"
   ]
  },
  {
   "cell_type": "code",
   "execution_count": 6,
   "id": "dffae5b0",
   "metadata": {},
   "outputs": [],
   "source": [
    "indoor_outdoorness_file = \"\"\n",
    "\n",
    "def pull_movement(year, wanted_counties):\n",
    "    \n",
    "    county_to_indoor = defaultdict(list)\n",
    "    \n",
    "    with open(indoor_outdoorness_file_{year}) as f:\n",
    "        data = csv.DictReader(f)\n",
    "        for l in data:\n",
    "            if l['countyFIPS'] in wanted_counties:\n",
    "                date = dt.datetime.strptime(l['date'], \"%Y-%m-%d\")\n",
    "                if date.month in summer_months:\n",
    "                    if l['indoor_activity'] != \"\":\n",
    "                        county_to_indoor[l['countyFIPS']].append(float(l['indoor_activity']))\n",
    "    \n",
    "    return county_to_indoor\n",
    "    "
   ]
  },
  {
   "cell_type": "markdown",
   "id": "3ef05947",
   "metadata": {},
   "source": [
    "## all counties that have ever had a case"
   ]
  },
  {
   "cell_type": "code",
   "execution_count": 19,
   "id": "915251a7",
   "metadata": {},
   "outputs": [],
   "source": [
    "all_counties = set()\n",
    "for i in counties_2019:\n",
    "    all_counties.add(county_to_code[i])\n",
    "for i in historical_counties:\n",
    "    all_counties.add(county_to_code[i])"
   ]
  },
  {
   "cell_type": "code",
   "execution_count": 20,
   "id": "bb968081",
   "metadata": {},
   "outputs": [],
   "source": [
    "county_to_indoor_2018 = pull_movement(2018, all_counties)\n",
    "county_to_indoor_2019 = pull_movement(2019, all_counties)"
   ]
  },
  {
   "cell_type": "code",
   "execution_count": 21,
   "id": "2728eb95",
   "metadata": {},
   "outputs": [],
   "source": [
    "all_averages_2018 = []\n",
    "all_averages_2019 = []\n",
    "\n",
    "for i,j in county_to_indoor_2018.items():\n",
    "    all_averages_2018.append(np.mean(j))\n",
    "    all_averages_2019.append(np.mean(county_to_indoor_2019[i]))"
   ]
  },
  {
   "cell_type": "code",
   "execution_count": 22,
   "id": "8c8511a7",
   "metadata": {},
   "outputs": [
    {
     "data": {
      "text/plain": [
       "Ttest_relResult(statistic=-0.6022218740860936, pvalue=0.557384962450989)"
      ]
     },
     "execution_count": 22,
     "metadata": {},
     "output_type": "execute_result"
    }
   ],
   "source": [
    "stats.ttest_rel(all_averages_2018, all_averages_2019)"
   ]
  },
  {
   "cell_type": "markdown",
   "id": "1ebc05b4",
   "metadata": {},
   "source": [
    "## counties that had a human case in 2019"
   ]
  },
  {
   "cell_type": "code",
   "execution_count": 11,
   "id": "6297502d",
   "metadata": {},
   "outputs": [],
   "source": [
    "county_codes_2019 = set()\n",
    "for i in counties_2019:\n",
    "    county_codes_2019.add(county_to_code[i])"
   ]
  },
  {
   "cell_type": "code",
   "execution_count": 12,
   "id": "c08f42e1",
   "metadata": {},
   "outputs": [],
   "source": [
    "county_to_indoor_2018 = pull_movement(2018, county_codes_2019)\n",
    "county_to_indoor_2019 = pull_movement(2019, county_codes_2019)"
   ]
  },
  {
   "cell_type": "code",
   "execution_count": 13,
   "id": "d930e312",
   "metadata": {},
   "outputs": [],
   "source": [
    "averages_2018 = []\n",
    "averages_2019 = []\n",
    "\n",
    "for i,j in county_to_indoor_2018.items():\n",
    "    averages_2018.append(np.mean(j))\n",
    "    averages_2019.append(np.mean(county_to_indoor_2019[i]))"
   ]
  },
  {
   "cell_type": "code",
   "execution_count": 14,
   "id": "d517064e",
   "metadata": {},
   "outputs": [
    {
     "data": {
      "text/plain": [
       "Ttest_relResult(statistic=-0.36870939934196406, pvalue=0.7219109993245627)"
      ]
     },
     "execution_count": 14,
     "metadata": {},
     "output_type": "execute_result"
    }
   ],
   "source": [
    "stats.ttest_rel(averages_2018, averages_2019)"
   ]
  },
  {
   "cell_type": "markdown",
   "id": "942f656b",
   "metadata": {},
   "source": [
    "## figure"
   ]
  },
  {
   "cell_type": "code",
   "execution_count": 27,
   "id": "174bda51",
   "metadata": {},
   "outputs": [],
   "source": [
    "df_dict = defaultdict(list)\n",
    "\n",
    "for i in all_averages_2018:\n",
    "    df_dict[\"type\"].append(\"ever_had_a_case\")\n",
    "    df_dict[\"year\"].append(\"2018\")\n",
    "    df_dict['value'].append(i)\n",
    "for i in all_averages_2019:\n",
    "    df_dict[\"type\"].append(\"ever_had_a_case\")\n",
    "    df_dict[\"year\"].append(\"2019\")\n",
    "    df_dict['value'].append(i)\n",
    "for i in averages_2018:\n",
    "    df_dict[\"type\"].append(\"had_a_case_in_2019\")\n",
    "    df_dict[\"year\"].append(\"2018\")\n",
    "    df_dict['value'].append(i)\n",
    "for i in averages_2019:\n",
    "    df_dict[\"type\"].append(\"had_a_case_in_2019\")\n",
    "    df_dict[\"year\"].append(\"2019\")\n",
    "    df_dict['value'].append(i)\n",
    "    \n",
    "df = pd.DataFrame(df_dict)"
   ]
  },
  {
   "cell_type": "code",
   "execution_count": 38,
   "id": "ef74558e",
   "metadata": {},
   "outputs": [
    {
     "data": {
      "image/png": "[encoded data removed]",
      "text/plain": [
       "<Figure size 720x720 with 1 Axes>"
      ]
     },
     "metadata": {
      "needs_background": "light"
     },
     "output_type": "display_data"
    }
   ],
   "source": [
    "fig, ax = plt.subplots(1,1, figsize=(10,10))\n",
    "\n",
    "colours = {\"2018\":\"#62270C\", \"2019\":\"#C08A46\"}\n",
    "\n",
    "sns.boxplot(ax=ax, data=df_dict, x=\"type\", y=\"value\", hue=\"year\", palette=colours)\n",
    "\n",
    "ax.axhline(y=1, color=\"darkgrey\", linestyle=\"--\")\n",
    "\n"
   ]
  },
  {
   "cell_type": "code",
   "execution_count": null,
   "id": "1ac24fca",
   "metadata": {},
   "outputs": [],
   "source": []
  }
 ],
 "metadata": {
  "kernelspec": {
   "display_name": "Python 3 (ipykernel)",
   "language": "python",
   "name": "python3"
  },
  "language_info": {
   "codemirror_mode": {
    "name": "ipython",
    "version": 3
   },
   "file_extension": ".py",
   "mimetype": "text/x-python",
   "name": "python",
   "nbconvert_exporter": "python",
   "pygments_lexer": "ipython3",
   "version": "3.9.16"
  }
 },
 "nbformat": 4,
 "nbformat_minor": 5
}
