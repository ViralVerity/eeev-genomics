{
 "cells": [
  {
   "cell_type": "code",
   "execution_count": 1,
   "id": "4a006e74",
   "metadata": {},
   "outputs": [],
   "source": [
    "from Bio import SeqIO\n",
    "from Bio import Seq\n",
    "from collections import defaultdict\n",
    "from collections import Counter\n"
   ]
  },
  {
   "cell_type": "code",
   "execution_count": 2,
   "id": "cbbc1fa9",
   "metadata": {},
   "outputs": [],
   "source": [
    "sequences_2019 = {}\n",
    "other_seqs = {}\n",
    "for seq in SeqIO.parse(\"../genomic_data/study_dataset.fasta\", 'fasta'):\n",
    "    date = seq.name.split(\"|\")[1]\n",
    "    if \"2019\" in date:\n",
    "        sequences_2019[seq.name] = seq.seq\n",
    "    else:\n",
    "        other_seqs[seq.name] = seq.seq\n",
    "    if seq.name == \"KJ469556_2005|2005\":\n",
    "        reference = seq.seq\n",
    "    "
   ]
  },
  {
   "cell_type": "code",
   "execution_count": 3,
   "id": "b3b361c7",
   "metadata": {},
   "outputs": [
    {
     "name": "stdout",
     "output_type": "stream",
     "text": [
      "11277\n"
     ]
    }
   ],
   "source": [
    "print(len(seq.seq))"
   ]
  },
  {
   "cell_type": "code",
   "execution_count": 51,
   "id": "ddcace99",
   "metadata": {},
   "outputs": [],
   "source": [
    "mutations = defaultdict(set)\n",
    "background_mutations = defaultdict(set)\n",
    "\n",
    "for locus, base in enumerate(reference):\n",
    "    position = locus+1\n",
    "    if base == \"U\":\n",
    "        base = \"T\"\n",
    "    start = f'{base}{position}'\n",
    "    for name, seq in sequences_2019.items():\n",
    "        if seq[locus] != base:\n",
    "            mutations[name].add(f'{start}{seq[locus]}')\n",
    "            \n",
    "    for name, seq in other_seqs.items():\n",
    "        base_2 = seq[locus]\n",
    "        if base_2 == \"U\":\n",
    "            base_2 = \"T\"\n",
    "        if base_2 != base:\n",
    "            background_mutations[name].add(f'{start}{base_2}')"
   ]
  },
  {
   "cell_type": "code",
   "execution_count": 52,
   "id": "3aa76117",
   "metadata": {},
   "outputs": [],
   "source": [
    "all_mutation_sets = []\n",
    "all_mutations = []\n",
    "for name, mutation_set in mutations.items():\n",
    "    all_mutation_sets.append(mutation_set)\n",
    "    for i in mutation_set:\n",
    "        all_mutations.append(i)"
   ]
  },
  {
   "cell_type": "code",
   "execution_count": 53,
   "id": "d4474c9d",
   "metadata": {},
   "outputs": [
    {
     "name": "stdout",
     "output_type": "stream",
     "text": [
      "{'C2583G', 'T10164C', 'A10737G', 'T7270C', 'T4581C', 'C5217T', 'A7432T', 'G10023T', 'A7088C', 'A10534G', 'G10959A', 'T1602C', 'A4981G', 'A8169C', 'C5184T', 'T8682C', 'G6210A'}\n",
      "17\n"
     ]
    }
   ],
   "source": [
    "in_all = (all_mutation_sets[0].intersection(*all_mutation_sets))\n",
    "print(in_all)\n",
    "print(len(in_all))"
   ]
  },
  {
   "cell_type": "code",
   "execution_count": 54,
   "id": "45c258f0",
   "metadata": {},
   "outputs": [
    {
     "name": "stdout",
     "output_type": "stream",
     "text": [
      "['C10557T', 'C3993T']\n",
      "[]\n",
      "['A1497T', 'C9387T']\n"
     ]
    }
   ],
   "source": [
    "mutation_counts = Counter(all_mutations)\n",
    "three_quarters = []\n",
    "eighty_five = []\n",
    "ninety = []\n",
    "for mutation, count in mutation_counts.items():\n",
    "    if count > 43 and mutation not in in_all:\n",
    "        ninety.append(mutation)\n",
    "    elif count >= 41 and mutation not in in_all and mutation not in ninety:\n",
    "        eighty_five.append(mutation)\n",
    "    elif count > 36 and mutation not in in_all and mutation not in ninety and mutation not in eighty_five:\n",
    "        three_quarters.append(mutation)\n",
    "        \n",
    "    \n",
    "print(ninety)\n",
    "print(eighty_five)\n",
    "print(three_quarters)"
   ]
  },
  {
   "cell_type": "markdown",
   "id": "9d9a2192",
   "metadata": {},
   "source": [
    "## compare to background"
   ]
  },
  {
   "cell_type": "code",
   "execution_count": 55,
   "id": "9cf9c35c",
   "metadata": {},
   "outputs": [],
   "source": [
    "    \n",
    "def check_background(mutation_list):\n",
    "    \n",
    "    present_in_background = []\n",
    "    for mutation in mutation_list:\n",
    "        for seq, mutations in background_mutations.items():\n",
    "            if mutation in mutations:\n",
    "                present_in_background.append(mutation)\n",
    "\n",
    "    present_counts = Counter(present_in_background)\n",
    "    \n",
    "    present_percs = {}\n",
    "    for k,v in present_counts.items():\n",
    "        present_percs[k] = (v/len(other_seqs))*100\n",
    "\n",
    "\n",
    "    for mutation in mutation_list:\n",
    "        if mutation not in present_percs:\n",
    "            present_percs[mutation] = 0\n",
    "            \n",
    "    present_percs_sorted = {k:v for k,v in sorted(present_percs.items(), key=lambda x:x[1])}\n",
    "    \n",
    "    return present_percs_sorted\n",
    "        "
   ]
  },
  {
   "cell_type": "code",
   "execution_count": 56,
   "id": "b618dd0b",
   "metadata": {},
   "outputs": [
    {
     "name": "stdout",
     "output_type": "stream",
     "text": [
      "{'G10023T': 95.56962025316456, 'T1602C': 95.9915611814346, 'G10959A': 96.20253164556962, 'C5184T': 96.62447257383965, 'A10737G': 96.83544303797468, 'T7270C': 96.83544303797468, 'T4581C': 97.0464135021097, 'A4981G': 97.0464135021097, 'A8169C': 97.0464135021097, 'T10164C': 97.25738396624473, 'C5217T': 97.46835443037975, 'T8682C': 97.46835443037975, 'C2583G': 98.10126582278481, 'A7432T': 98.10126582278481, 'A7088C': 98.10126582278481, 'A10534G': 98.10126582278481, 'G6210A': 98.10126582278481}\n",
      "{'C3993T': 94.72573839662446, 'C10557T': 96.83544303797468}\n",
      "{'C9387T': 96.62447257383965, 'A1497T': 97.0464135021097}\n"
     ]
    }
   ],
   "source": [
    "one_hundred_bg = check_background(in_all)\n",
    "ninety_bg = check_background(ninety)\n",
    "seventy_five_bg = check_background(three_quarters)\n",
    "\n",
    "print(one_hundred_bg)\n",
    "print(ninety_bg)\n",
    "print(seventy_five_bg)\n"
   ]
  },
  {
   "cell_type": "code",
   "execution_count": null,
   "id": "f1278094",
   "metadata": {},
   "outputs": [],
   "source": []
  }
 ],
 "metadata": {
  "kernelspec": {
   "display_name": "Python 3 (ipykernel)",
   "language": "python",
   "name": "python3"
  },
  "language_info": {
   "codemirror_mode": {
    "name": "ipython",
    "version": 3
   },
   "file_extension": ".py",
   "mimetype": "text/x-python",
   "name": "python",
   "nbconvert_exporter": "python",
   "pygments_lexer": "ipython3",
   "version": "3.9.16"
  }
 },
 "nbformat": 4,
 "nbformat_minor": 5
}
