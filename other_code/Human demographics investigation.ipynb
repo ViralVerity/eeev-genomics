{
 "cells": [
  {
   "cell_type": "code",
   "execution_count": 1,
   "id": "c4ff4458",
   "metadata": {},
   "outputs": [
    {
     "name": "stderr",
     "output_type": "stream",
     "text": [
      "/Users/verityhill/miniconda3/lib/python3.9/site-packages/scipy/__init__.py:146: UserWarning: A NumPy version >=1.16.5 and <1.23.0 is required for this version of SciPy (detected version 1.24.2\n",
      "  warnings.warn(f\"A NumPy version >={np_minversion} and <{np_maxversion}\"\n"
     ]
    }
   ],
   "source": [
    "import matplotlib.pyplot as plt\n",
    "import matplotlib\n",
    "import csv\n",
    "from collections import Counter\n",
    "from collections import defaultdict\n",
    "import numpy as np\n",
    "import matplotlib.ticker as plticker\n",
    "import pandas as pd\n",
    "import scipy.stats as stats\n",
    "import inspect\n",
    "\n",
    "import rpy2.robjects.numpy2ri\n",
    "from rpy2.robjects.packages import importr\n",
    "rpy2.robjects.numpy2ri.activate()"
   ]
  },
  {
   "cell_type": "code",
   "execution_count": 2,
   "id": "19d59d4d",
   "metadata": {},
   "outputs": [],
   "source": [
    "hex_codes = [\n",
    "    \"#618669\",\n",
    "    \"#4E5E48\",\n",
    "    \"#F1C081\",\n",
    "    \"#C08A46\",\n",
    "    \"#A83B17\",\n",
    "    \"#862E19\",\n",
    "    \"#62270C\"\n",
    "]\n",
    "\n",
    "hex_codes.append(\"#C2A67E\")\n",
    "hex_codes.append(\"#86B790\")\n",
    "\n",
    "colours = [\n",
    "    \"#86B790\",\n",
    "    \"#618669\",\n",
    "    \"#4E5E48\",\n",
    "    \"#F1C081\",\n",
    "    \"#C08A46\",\n",
    "    \"#C2A67E\",\n",
    "    \"#A83B17\",\n",
    "    \"#862E19\",\n",
    "    \"#62270C\"\n",
    "]\n",
    "\n"
   ]
  },
  {
   "cell_type": "code",
   "execution_count": 3,
   "id": "e166b415",
   "metadata": {},
   "outputs": [
    {
     "ename": "FileNotFoundError",
     "evalue": "[Errno 2] No such file or directory: ''",
     "output_type": "error",
     "traceback": [
      "\u001b[0;31m---------------------------------------------------------------------------\u001b[0m",
      "\u001b[0;31mFileNotFoundError\u001b[0m                         Traceback (most recent call last)",
      "Cell \u001b[0;32mIn[3], line 9\u001b[0m\n\u001b[1;32m      5\u001b[0m northeast \u001b[38;5;241m=\u001b[39m [\u001b[38;5;124m\"\u001b[39m\u001b[38;5;124mCT\u001b[39m\u001b[38;5;124m\"\u001b[39m, \u001b[38;5;124m\"\u001b[39m\u001b[38;5;124mNY\u001b[39m\u001b[38;5;124m\"\u001b[39m, \u001b[38;5;124m\"\u001b[39m\u001b[38;5;124mMA\u001b[39m\u001b[38;5;124m\"\u001b[39m, \u001b[38;5;124m\"\u001b[39m\u001b[38;5;124mME\u001b[39m\u001b[38;5;124m\"\u001b[39m, \u001b[38;5;124m\"\u001b[39m\u001b[38;5;124mNH\u001b[39m\u001b[38;5;124m\"\u001b[39m, \u001b[38;5;124m\"\u001b[39m\u001b[38;5;124mVT\u001b[39m\u001b[38;5;124m\"\u001b[39m, \u001b[38;5;124m\"\u001b[39m\u001b[38;5;124mRI\u001b[39m\u001b[38;5;124m\"\u001b[39m]\n\u001b[1;32m      7\u001b[0m human_case_detail_arbonet \u001b[38;5;241m=\u001b[39m \u001b[38;5;124m\"\u001b[39m\u001b[38;5;124m\"\u001b[39m\n\u001b[0;32m----> 9\u001b[0m \u001b[38;5;28;01mwith\u001b[39;00m \u001b[38;5;28;43mopen\u001b[39;49m\u001b[43m(\u001b[49m\u001b[43mhuman_case_detail_arbonet\u001b[49m\u001b[43m)\u001b[49m \u001b[38;5;28;01mas\u001b[39;00m f:\n\u001b[1;32m     10\u001b[0m     data \u001b[38;5;241m=\u001b[39m csv\u001b[38;5;241m.\u001b[39mDictReader(f)\n\u001b[1;32m     11\u001b[0m     \u001b[38;5;28;01mfor\u001b[39;00m l \u001b[38;5;129;01min\u001b[39;00m data:\n",
      "File \u001b[0;32m~/miniconda3/lib/python3.9/site-packages/IPython/core/interactiveshell.py:282\u001b[0m, in \u001b[0;36m_modified_open\u001b[0;34m(file, *args, **kwargs)\u001b[0m\n\u001b[1;32m    275\u001b[0m \u001b[38;5;28;01mif\u001b[39;00m file \u001b[38;5;129;01min\u001b[39;00m {\u001b[38;5;241m0\u001b[39m, \u001b[38;5;241m1\u001b[39m, \u001b[38;5;241m2\u001b[39m}:\n\u001b[1;32m    276\u001b[0m     \u001b[38;5;28;01mraise\u001b[39;00m \u001b[38;5;167;01mValueError\u001b[39;00m(\n\u001b[1;32m    277\u001b[0m         \u001b[38;5;124mf\u001b[39m\u001b[38;5;124m\"\u001b[39m\u001b[38;5;124mIPython won\u001b[39m\u001b[38;5;124m'\u001b[39m\u001b[38;5;124mt let you open fd=\u001b[39m\u001b[38;5;132;01m{\u001b[39;00mfile\u001b[38;5;132;01m}\u001b[39;00m\u001b[38;5;124m by default \u001b[39m\u001b[38;5;124m\"\u001b[39m\n\u001b[1;32m    278\u001b[0m         \u001b[38;5;124m\"\u001b[39m\u001b[38;5;124mas it is likely to crash IPython. If you know what you are doing, \u001b[39m\u001b[38;5;124m\"\u001b[39m\n\u001b[1;32m    279\u001b[0m         \u001b[38;5;124m\"\u001b[39m\u001b[38;5;124myou can use builtins\u001b[39m\u001b[38;5;124m'\u001b[39m\u001b[38;5;124m open.\u001b[39m\u001b[38;5;124m\"\u001b[39m\n\u001b[1;32m    280\u001b[0m     )\n\u001b[0;32m--> 282\u001b[0m \u001b[38;5;28;01mreturn\u001b[39;00m \u001b[43mio_open\u001b[49m\u001b[43m(\u001b[49m\u001b[43mfile\u001b[49m\u001b[43m,\u001b[49m\u001b[43m \u001b[49m\u001b[38;5;241;43m*\u001b[39;49m\u001b[43margs\u001b[49m\u001b[43m,\u001b[49m\u001b[43m \u001b[49m\u001b[38;5;241;43m*\u001b[39;49m\u001b[38;5;241;43m*\u001b[39;49m\u001b[43mkwargs\u001b[49m\u001b[43m)\u001b[49m\n",
      "\u001b[0;31mFileNotFoundError\u001b[0m: [Errno 2] No such file or directory: ''"
     ]
    }
   ],
   "source": [
    "year_to_sex = defaultdict(list)\n",
    "year_to_age = defaultdict(list)\n",
    "year_to_month = defaultdict(list)\n",
    "\n",
    "northeast = [\"CT\", \"NY\", \"MA\", \"ME\", \"NH\", \"VT\", \"RI\"]\n",
    "\n",
    "human_case_detail_arbonet = \"\"\n",
    "\n",
    "with open(human_case_detail_arbonet) as f:\n",
    "    data = csv.DictReader(f)\n",
    "    for l in data:\n",
    "        if l['state'] in northeast:\n",
    "            year = int(l['year'])\n",
    "            year_to_sex[year].append(l['sex'])\n",
    "            year_to_month[year].append(l['month'])\n",
    "            \n",
    "            age_start = (l['age_group'].split(\" \")[0])\n",
    "            if age_start == \"<1\" or age_start == \"1\":\n",
    "                age_start = 0\n",
    "            elif age_start.endswith(\"5\"):\n",
    "                age_start = int(age_start) - 5\n",
    "            else:\n",
    "                age_start = int(age_start)\n",
    "            \n",
    "            year_to_age[year].append(age_start)\n",
    "            "
   ]
  },
  {
   "cell_type": "markdown",
   "id": "0933d7ab",
   "metadata": {},
   "source": [
    "## Sex"
   ]
  },
  {
   "cell_type": "code",
   "execution_count": 4,
   "id": "447ac2c3",
   "metadata": {},
   "outputs": [],
   "source": [
    "sex_counts = defaultdict(dict)\n",
    "sex_freqs = defaultdict(dict)\n",
    "\n",
    "for year, sex_list in year_to_sex.items():\n",
    "#     if len(sex_list) >= 3:\n",
    "    counts = Counter(sex_list)\n",
    "    props = {}\n",
    "    for i,v in counts.items():\n",
    "        props[i] = v/len(sex_list)\n",
    "\n",
    "    sex_counts[year] = counts\n",
    "    sex_freqs[year] = props\n",
    "        \n"
   ]
  },
  {
   "cell_type": "code",
   "execution_count": 5,
   "id": "f4288450",
   "metadata": {
    "collapsed": true
   },
   "outputs": [
    {
     "name": "stdout",
     "output_type": "stream",
     "text": [
      "[]\n"
     ]
    },
    {
     "name": "stderr",
     "output_type": "stream",
     "text": [
      "R[write to console]: Error in (function (x, y = NULL, workspace = 2e+05, hybrid = FALSE, hybridPars = c(expect = 5,  : \n",
      "  'x' must have at least 2 rows and columns\n",
      "\n"
     ]
    },
    {
     "ename": "RRuntimeError",
     "evalue": "Error in (function (x, y = NULL, workspace = 2e+05, hybrid = FALSE, hybridPars = c(expect = 5,  : \n  'x' must have at least 2 rows and columns\n",
     "output_type": "error",
     "traceback": [
      "\u001b[0;31m---------------------------------------------------------------------------\u001b[0m",
      "\u001b[0;31mRRuntimeError\u001b[0m                             Traceback (most recent call last)",
      "Cell \u001b[0;32mIn[5], line 20\u001b[0m\n\u001b[1;32m     16\u001b[0m \u001b[38;5;28mprint\u001b[39m(df)\n\u001b[1;32m     19\u001b[0m stats \u001b[38;5;241m=\u001b[39m importr(\u001b[38;5;124m'\u001b[39m\u001b[38;5;124mstats\u001b[39m\u001b[38;5;124m'\u001b[39m)\n\u001b[0;32m---> 20\u001b[0m res \u001b[38;5;241m=\u001b[39m \u001b[43mstats\u001b[49m\u001b[38;5;241;43m.\u001b[39;49m\u001b[43mfisher_test\u001b[49m\u001b[43m(\u001b[49m\u001b[43mdf\u001b[49m\u001b[43m)\u001b[49m\n\u001b[1;32m     21\u001b[0m res[\u001b[38;5;241m0\u001b[39m]\n",
      "File \u001b[0;32m~/miniconda3/lib/python3.9/site-packages/rpy2/robjects/functions.py:204\u001b[0m, in \u001b[0;36mSignatureTranslatedFunction.__call__\u001b[0;34m(self, *args, **kwargs)\u001b[0m\n\u001b[1;32m    202\u001b[0m         v \u001b[38;5;241m=\u001b[39m kwargs\u001b[38;5;241m.\u001b[39mpop(k)\n\u001b[1;32m    203\u001b[0m         kwargs[r_k] \u001b[38;5;241m=\u001b[39m v\n\u001b[0;32m--> 204\u001b[0m \u001b[38;5;28;01mreturn\u001b[39;00m (\u001b[38;5;28;43msuper\u001b[39;49m\u001b[43m(\u001b[49m\u001b[43mSignatureTranslatedFunction\u001b[49m\u001b[43m,\u001b[49m\u001b[43m \u001b[49m\u001b[38;5;28;43mself\u001b[39;49m\u001b[43m)\u001b[49m\n\u001b[1;32m    205\u001b[0m \u001b[43m        \u001b[49m\u001b[38;5;241;43m.\u001b[39;49m\u001b[38;5;21;43m__call__\u001b[39;49m\u001b[43m(\u001b[49m\u001b[38;5;241;43m*\u001b[39;49m\u001b[43margs\u001b[49m\u001b[43m,\u001b[49m\u001b[43m \u001b[49m\u001b[38;5;241;43m*\u001b[39;49m\u001b[38;5;241;43m*\u001b[39;49m\u001b[43mkwargs\u001b[49m\u001b[43m)\u001b[49m)\n",
      "File \u001b[0;32m~/miniconda3/lib/python3.9/site-packages/rpy2/robjects/functions.py:127\u001b[0m, in \u001b[0;36mFunction.__call__\u001b[0;34m(self, *args, **kwargs)\u001b[0m\n\u001b[1;32m    125\u001b[0m     \u001b[38;5;28;01melse\u001b[39;00m:\n\u001b[1;32m    126\u001b[0m         new_kwargs[k] \u001b[38;5;241m=\u001b[39m cv\u001b[38;5;241m.\u001b[39mpy2rpy(v)\n\u001b[0;32m--> 127\u001b[0m res \u001b[38;5;241m=\u001b[39m \u001b[38;5;28;43msuper\u001b[39;49m\u001b[43m(\u001b[49m\u001b[43mFunction\u001b[49m\u001b[43m,\u001b[49m\u001b[43m \u001b[49m\u001b[38;5;28;43mself\u001b[39;49m\u001b[43m)\u001b[49m\u001b[38;5;241;43m.\u001b[39;49m\u001b[38;5;21;43m__call__\u001b[39;49m\u001b[43m(\u001b[49m\u001b[38;5;241;43m*\u001b[39;49m\u001b[43mnew_args\u001b[49m\u001b[43m,\u001b[49m\u001b[43m \u001b[49m\u001b[38;5;241;43m*\u001b[39;49m\u001b[38;5;241;43m*\u001b[39;49m\u001b[43mnew_kwargs\u001b[49m\u001b[43m)\u001b[49m\n\u001b[1;32m    128\u001b[0m res \u001b[38;5;241m=\u001b[39m cv\u001b[38;5;241m.\u001b[39mrpy2py(res)\n\u001b[1;32m    129\u001b[0m \u001b[38;5;28;01mreturn\u001b[39;00m res\n",
      "File \u001b[0;32m~/miniconda3/lib/python3.9/site-packages/rpy2/rinterface_lib/conversion.py:45\u001b[0m, in \u001b[0;36m_cdata_res_to_rinterface.<locals>._\u001b[0;34m(*args, **kwargs)\u001b[0m\n\u001b[1;32m     44\u001b[0m \u001b[38;5;28;01mdef\u001b[39;00m \u001b[38;5;21m_\u001b[39m(\u001b[38;5;241m*\u001b[39margs, \u001b[38;5;241m*\u001b[39m\u001b[38;5;241m*\u001b[39mkwargs):\n\u001b[0;32m---> 45\u001b[0m     cdata \u001b[38;5;241m=\u001b[39m \u001b[43mfunction\u001b[49m\u001b[43m(\u001b[49m\u001b[38;5;241;43m*\u001b[39;49m\u001b[43margs\u001b[49m\u001b[43m,\u001b[49m\u001b[43m \u001b[49m\u001b[38;5;241;43m*\u001b[39;49m\u001b[38;5;241;43m*\u001b[39;49m\u001b[43mkwargs\u001b[49m\u001b[43m)\u001b[49m\n\u001b[1;32m     46\u001b[0m     \u001b[38;5;66;03m# TODO: test cdata is of the expected CType\u001b[39;00m\n\u001b[1;32m     47\u001b[0m     \u001b[38;5;28;01mreturn\u001b[39;00m _cdata_to_rinterface(cdata)\n",
      "File \u001b[0;32m~/miniconda3/lib/python3.9/site-packages/rpy2/rinterface.py:815\u001b[0m, in \u001b[0;36mSexpClosure.__call__\u001b[0;34m(self, *args, **kwargs)\u001b[0m\n\u001b[1;32m    808\u001b[0m     res \u001b[38;5;241m=\u001b[39m rmemory\u001b[38;5;241m.\u001b[39mprotect(\n\u001b[1;32m    809\u001b[0m         openrlib\u001b[38;5;241m.\u001b[39mrlib\u001b[38;5;241m.\u001b[39mR_tryEval(\n\u001b[1;32m    810\u001b[0m             call_r,\n\u001b[1;32m    811\u001b[0m             call_context\u001b[38;5;241m.\u001b[39m__sexp__\u001b[38;5;241m.\u001b[39m_cdata,\n\u001b[1;32m    812\u001b[0m             error_occured)\n\u001b[1;32m    813\u001b[0m     )\n\u001b[1;32m    814\u001b[0m     \u001b[38;5;28;01mif\u001b[39;00m error_occured[\u001b[38;5;241m0\u001b[39m]:\n\u001b[0;32m--> 815\u001b[0m         \u001b[38;5;28;01mraise\u001b[39;00m embedded\u001b[38;5;241m.\u001b[39mRRuntimeError(_rinterface\u001b[38;5;241m.\u001b[39m_geterrmessage())\n\u001b[1;32m    816\u001b[0m \u001b[38;5;28;01mreturn\u001b[39;00m res\n",
      "\u001b[0;31mRRuntimeError\u001b[0m: Error in (function (x, y = NULL, workspace = 2e+05, hybrid = FALSE, hybridPars = c(expect = 5,  : \n  'x' must have at least 2 rows and columns\n"
     ]
    }
   ],
   "source": [
    "df_dict = defaultdict(list)\n",
    "for k,v in sex_counts.items():\n",
    "#     df_dict[\"year\"].append(k)\n",
    "    if \"Male\" in v:\n",
    "        df_dict[\"men\"].append(v[\"Male\"])\n",
    "    else:\n",
    "        df_dict[\"men\"].append(0)\n",
    "        \n",
    "    if \"Female\" in v:\n",
    "        df_dict[\"women\"].append(v[\"Female\"])\n",
    "    else:\n",
    "        df_dict[\"women\"].append(0)\n",
    "\n",
    "\n",
    "df = pd.DataFrame(df_dict).to_numpy()\n",
    "print(df)\n",
    "\n",
    "\n",
    "stats = importr('stats')\n",
    "res = stats.fisher_test(df)\n",
    "res[0]"
   ]
  },
  {
   "cell_type": "code",
   "execution_count": 45,
   "id": "3f5cf900",
   "metadata": {},
   "outputs": [],
   "source": [
    "male = []\n",
    "female = []\n",
    "for year, props in sex_freqs.items():\n",
    "    male.append(props[\"Male\"])\n",
    "    if \"Female\" in props:\n",
    "        female.append(props[\"Female\"])\n",
    "    else:\n",
    "        female.append(0)\n",
    "\n",
    "male = np.array(male)\n",
    "female = np.array(female)"
   ]
  },
  {
   "cell_type": "code",
   "execution_count": 73,
   "id": "773c3654",
   "metadata": {},
   "outputs": [
    {
     "data": {
      "image/png": "[encoded data removed]",
      "text/plain": [
       "<Figure size 720x720 with 1 Axes>"
      ]
     },
     "metadata": {
      "needs_background": "light"
     },
     "output_type": "display_data"
    }
   ],
   "source": [
    "fig, ax = plt.subplots(1,1, figsize=(10,10))\n",
    "\n",
    "barwidth = 0.6\n",
    "\n",
    "ax.bar([str(i) for i in sex_freqs.keys()], male, color=\"#F1C081\", label=\"Male\", width=barwidth)\n",
    "ax.bar([str(i) for i in sex_freqs.keys()], female, bottom=male, color=\"#A83B17\", label=\"Female\", width=barwidth)\n",
    "\n",
    "ax.legend(bbox_to_anchor=(1.23, 1.0))\n",
    "\n",
    "# loc = plticker.MultipleLocator(base=2.0)\n",
    "# ax.xaxis.set_major_locator(loc)\n",
    "\n",
    "ax.legend()\n",
    "ax.set_ylim(0,1.05)\n",
    "\n",
    "plt.savefig(\"../../figures/supplementary/demographics_fig/sex_ratio.pdf\", bbox_inches='tight')\n",
    "\n",
    "plt.show()"
   ]
  },
  {
   "cell_type": "markdown",
   "id": "e546954d",
   "metadata": {},
   "source": [
    "## age group"
   ]
  },
  {
   "cell_type": "code",
   "execution_count": 4,
   "id": "d836976a",
   "metadata": {},
   "outputs": [],
   "source": [
    "age_props = defaultdict(dict)\n",
    "age_counts = defaultdict(dict)\n",
    "all_possible_ages = set()\n",
    "for year, age_list in year_to_age.items():    \n",
    "#     if len(age_list) >= 3:\n",
    "    counts = Counter(age_list)\n",
    "    props = {}\n",
    "    for i,v in counts.items():\n",
    "        props[i] = v/len(age_list)\n",
    "\n",
    "    age_props[year] = props\n",
    "    age_counts[year] = counts\n",
    "    for i in age_list:\n",
    "        all_possible_ages.add(i)"
   ]
  },
  {
   "cell_type": "code",
   "execution_count": 6,
   "id": "da8d81d3",
   "metadata": {
    "collapsed": true
   },
   "outputs": [
    {
     "ename": "NameError",
     "evalue": "name 'age_props' is not defined",
     "output_type": "error",
     "traceback": [
      "\u001b[0;31m---------------------------------------------------------------------------\u001b[0m",
      "\u001b[0;31mNameError\u001b[0m                                 Traceback (most recent call last)",
      "Cell \u001b[0;32mIn[6], line 1\u001b[0m\n\u001b[0;32m----> 1\u001b[0m \u001b[38;5;28;01mfor\u001b[39;00m k,v \u001b[38;5;129;01min\u001b[39;00m \u001b[43mage_props\u001b[49m\u001b[38;5;241m.\u001b[39mitems():\n\u001b[1;32m      2\u001b[0m     biggest_group \u001b[38;5;241m=\u001b[39m \u001b[38;5;28mmax\u001b[39m(v, key\u001b[38;5;241m=\u001b[39mv\u001b[38;5;241m.\u001b[39mget)\n\u001b[1;32m      3\u001b[0m     \u001b[38;5;28mprint\u001b[39m(k, biggest_group, v[biggest_group])\n",
      "\u001b[0;31mNameError\u001b[0m: name 'age_props' is not defined"
     ]
    }
   ],
   "source": [
    "for k,v in age_props.items():\n",
    "    biggest_group = max(v, key=v.get)\n",
    "    print(k, biggest_group, v[biggest_group])"
   ]
  },
  {
   "cell_type": "code",
   "execution_count": 6,
   "id": "d44cdb12",
   "metadata": {},
   "outputs": [],
   "source": [
    "df_dict = defaultdict(list)\n",
    "\n",
    "for year, age_group in age_props.items():\n",
    "    df_dict[\"year\"].append(year)\n",
    "    for i in all_possible_ages:\n",
    "        if i not in age_group:\n",
    "            age_group[i] = 0\n",
    "    sorted_groups = {k:v for k,v in sorted(age_group.items(), key=lambda x : x[0])}\n",
    "    for age_group, freq in sorted_groups.items():\n",
    "        df_dict[age_group].append(freq)\n",
    "        \n",
    "df = pd.DataFrame(df_dict)"
   ]
  },
  {
   "cell_type": "code",
   "execution_count": 76,
   "id": "c9c94acc",
   "metadata": {},
   "outputs": [
    {
     "data": {
      "image/png": "[encoded data removed]",
      "text/plain": [
       "<Figure size 720x720 with 1 Axes>"
      ]
     },
     "metadata": {
      "needs_background": "light"
     },
     "output_type": "display_data"
    }
   ],
   "source": [
    "fig, ax = plt.subplots(1,1,figsize=(10,10))\n",
    "\n",
    "font = {'family' : 'normal',\n",
    "        'size'   : 15}\n",
    "\n",
    "df.plot(x='year', kind='bar', stacked=True, ax=ax, color=colours, width=0.6)\n",
    "\n",
    "ax.legend(bbox_to_anchor=(1.23, 1.0))\n",
    "ax.set_ylabel(\"Frequency\", size=15)\n",
    "\n",
    "plt.show()"
   ]
  },
  {
   "cell_type": "code",
   "execution_count": 72,
   "id": "09af5b65",
   "metadata": {},
   "outputs": [
    {
     "name": "stderr",
     "output_type": "stream",
     "text": [
      "/var/folders/pd/bjtp4xt916vfpszlps7rr5_c0000gn/T/ipykernel_9462/3734069501.py:2: DeprecationWarning: inspect.getargspec() is deprecated since Python 3.0, use inspect.signature() or inspect.getfullargspec()\n",
      "  inspect.getargspec(stats.fisher_test)\n"
     ]
    },
    {
     "data": {
      "text/plain": [
       "ArgSpec(args=['self'], varargs='args', keywords='kwargs', defaults=None)"
      ]
     },
     "execution_count": 72,
     "metadata": {},
     "output_type": "execute_result"
    }
   ],
   "source": [
    "stats = importr('stats')\n",
    "inspect.getargspec(stats.fisher_test)"
   ]
  },
  {
   "cell_type": "code",
   "execution_count": 7,
   "id": "37c1b767",
   "metadata": {
    "collapsed": true
   },
   "outputs": [
    {
     "ename": "NameError",
     "evalue": "name 'age_counts' is not defined",
     "output_type": "error",
     "traceback": [
      "\u001b[0;31m---------------------------------------------------------------------------\u001b[0m",
      "\u001b[0;31mNameError\u001b[0m                                 Traceback (most recent call last)",
      "Cell \u001b[0;32mIn[7], line 2\u001b[0m\n\u001b[1;32m      1\u001b[0m df_dict \u001b[38;5;241m=\u001b[39m defaultdict(\u001b[38;5;28mlist\u001b[39m)\n\u001b[0;32m----> 2\u001b[0m \u001b[38;5;28;01mfor\u001b[39;00m k,v \u001b[38;5;129;01min\u001b[39;00m \u001b[43mage_counts\u001b[49m\u001b[38;5;241m.\u001b[39mitems():\n\u001b[1;32m      3\u001b[0m     \u001b[38;5;28;01mfor\u001b[39;00m age \u001b[38;5;129;01min\u001b[39;00m \u001b[38;5;28msorted\u001b[39m(all_possible_ages):\n\u001b[1;32m      4\u001b[0m         \u001b[38;5;28;01mif\u001b[39;00m age \u001b[38;5;129;01min\u001b[39;00m v:\n",
      "\u001b[0;31mNameError\u001b[0m: name 'age_counts' is not defined"
     ]
    }
   ],
   "source": [
    "df_dict = defaultdict(list)\n",
    "for k,v in age_counts.items():\n",
    "    for age in sorted(all_possible_ages):\n",
    "        if age in v:\n",
    "            df_dict[age].append(v[age])\n",
    "        else:\n",
    "            df_dict[age].append(0)\n",
    "            \n",
    "df = pd.DataFrame(df_dict)\n",
    "\n",
    "\n"
   ]
  },
  {
   "cell_type": "code",
   "execution_count": null,
   "id": "0c24e7e1",
   "metadata": {},
   "outputs": [],
   "source": [
    "df = pd.DataFrame(df_dict).to_numpy()\n",
    "\n",
    "\n",
    "stats = importr('stats')\n",
    "res = stats.fisher_test(df, simulate_p_value=True)\n",
    "res[0]"
   ]
  },
  {
   "cell_type": "code",
   "execution_count": 11,
   "id": "5392fffc",
   "metadata": {},
   "outputs": [
    {
     "name": "stdout",
     "output_type": "stream",
     "text": [
      "[2004, 2005, 2006, 2012, 2014, 2019, 2020]\n",
      "[2007, 2008, 2009, 2010, 2011, 2013, 2015]\n"
     ]
    }
   ],
   "source": [
    "overall_cases = defaultdict(list)\n",
    "with open(\"../../data/case_data/arbonet_cases_human.csv\")as f:\n",
    "    data = csv.DictReader(f)\n",
    "    for l in data:\n",
    "        if l['state'] in northeast:\n",
    "            overall_cases[l['year']].append(int(l['count']))\n",
    "    \n",
    "large = []\n",
    "small = []\n",
    "for k,v in sorted(overall_cases.items()):\n",
    "    if np.sum(v) >= 5:\n",
    "        large.append(int(k))\n",
    "    else:\n",
    "        small.append(int(k))\n",
    "                                             \n",
    "print(large)\n",
    "print(small)"
   ]
  },
  {
   "cell_type": "code",
   "execution_count": 8,
   "id": "3da983e4",
   "metadata": {
    "collapsed": true
   },
   "outputs": [
    {
     "ename": "NameError",
     "evalue": "name 'age_counts' is not defined",
     "output_type": "error",
     "traceback": [
      "\u001b[0;31m---------------------------------------------------------------------------\u001b[0m",
      "\u001b[0;31mNameError\u001b[0m                                 Traceback (most recent call last)",
      "Cell \u001b[0;32mIn[8], line 3\u001b[0m\n\u001b[1;32m      1\u001b[0m large_dict \u001b[38;5;241m=\u001b[39m defaultdict(\u001b[38;5;28mlist\u001b[39m)\n\u001b[1;32m      2\u001b[0m small_dict \u001b[38;5;241m=\u001b[39m defaultdict(\u001b[38;5;28mlist\u001b[39m)\n\u001b[0;32m----> 3\u001b[0m \u001b[38;5;28;01mfor\u001b[39;00m k,v \u001b[38;5;129;01min\u001b[39;00m \u001b[43mage_counts\u001b[49m\u001b[38;5;241m.\u001b[39mitems():\n\u001b[1;32m      4\u001b[0m     \u001b[38;5;28;01mif\u001b[39;00m k \u001b[38;5;129;01min\u001b[39;00m large:\n\u001b[1;32m      5\u001b[0m         \u001b[38;5;28;01mfor\u001b[39;00m age \u001b[38;5;129;01min\u001b[39;00m \u001b[38;5;28msorted\u001b[39m(all_possible_ages):\n",
      "\u001b[0;31mNameError\u001b[0m: name 'age_counts' is not defined"
     ]
    }
   ],
   "source": [
    "large_dict = defaultdict(list)\n",
    "small_dict = defaultdict(list)\n",
    "for k,v in age_counts.items():\n",
    "    if k in large:\n",
    "        for age in sorted(all_possible_ages):\n",
    "            if age in v:\n",
    "                large_dict[age].append(v[age])\n",
    "            else:\n",
    "                large_dict[age].append(0)\n",
    "                \n",
    "    else:\n",
    "        for age in sorted(all_possible_ages):\n",
    "            if age in v:\n",
    "                small_dict[age].append(v[age])\n",
    "            else:\n",
    "                small_dict[age].append(0)\n",
    "                \n",
    "df_dict = defaultdict(list)\n",
    "for k,v in large_dict.items():\n",
    "    df_dict[\"large\"].append(sum(v))\n",
    "for k,v in small_dict.items():\n",
    "    df_dict['small'].append(sum(v))\n",
    "\n",
    "print(large_dict)\n",
    "    \n",
    "df = pd.DataFrame(df_dict).to_numpy()\n",
    "print(df)\n",
    "\n",
    "stats = importr('stats')\n",
    "res = stats.fisher_test(df, simulate_p_value=True)\n",
    "res[0]\n"
   ]
  },
  {
   "cell_type": "markdown",
   "id": "cc892954",
   "metadata": {},
   "source": [
    "## Timing"
   ]
  },
  {
   "cell_type": "code",
   "execution_count": 16,
   "id": "d72aba02",
   "metadata": {},
   "outputs": [],
   "source": [
    "month_freqs = defaultdict(dict)\n",
    "for year, month_list in year_to_month.items():\n",
    "    if len(month_list) >= 3:\n",
    "        counts = Counter(month_list)\n",
    "        props = {}\n",
    "        for i,v in counts.items():\n",
    "            props[int(i)] = v/len(month_list)\n",
    "\n",
    "        month_freqs[year] = props\n",
    "        \n"
   ]
  },
  {
   "cell_type": "code",
   "execution_count": 17,
   "id": "0a35867e",
   "metadata": {},
   "outputs": [],
   "source": [
    "df_dict = defaultdict(list)\n",
    "\n",
    "for year, month_group in month_freqs.items():\n",
    "    df_dict[\"year\"].append(year)\n",
    "    for i in [7,8,9,10]:\n",
    "        if i not in month_group:\n",
    "            month_group[i] = 0\n",
    "    sorted_groups = {k:v for k,v in sorted(month_group.items(), key=lambda x : x[0])}\n",
    "    for month_group, freq in sorted_groups.items():\n",
    "        df_dict[month_group].append(freq)\n",
    "        \n",
    "df = pd.DataFrame(df_dict)\n"
   ]
  },
  {
   "cell_type": "code",
   "execution_count": 18,
   "id": "7ffe98b9",
   "metadata": {},
   "outputs": [
    {
     "data": {
      "image/png": "[encoded data removed]",
      "text/plain": [
       "<Figure size 720x720 with 1 Axes>"
      ]
     },
     "metadata": {
      "needs_background": "light"
     },
     "output_type": "display_data"
    }
   ],
   "source": [
    "fig, ax = plt.subplots(1,1,figsize=(10,10))\n",
    "\n",
    "font = {'family' : 'normal',\n",
    "        'size'   : 15}\n",
    "\n",
    "colours = [\"#618669\", \"#C2A67E\",\"#F1C081\",\n",
    "    \"#A83B17\",]\n",
    "\n",
    "df.plot(x='year', kind='bar', stacked=True, ax=ax, color=colours, width=0.6)\n",
    "\n",
    "ax.legend(bbox_to_anchor=(1.23, 1.0))\n",
    "ax.set_ylabel(\"Frequency\", size=15)\n",
    "\n",
    "plt.savefig(\"../../figures/figure_5/timing.pdf\", bbox_inches=\"tight\")\n",
    "\n",
    "plt.show()"
   ]
  },
  {
   "cell_type": "code",
   "execution_count": null,
   "id": "0f8afa85",
   "metadata": {},
   "outputs": [],
   "source": []
  }
 ],
 "metadata": {
  "kernelspec": {
   "display_name": "Python 3 (ipykernel)",
   "language": "python",
   "name": "python3"
  },
  "language_info": {
   "codemirror_mode": {
    "name": "ipython",
    "version": 3
   },
   "file_extension": ".py",
   "mimetype": "text/x-python",
   "name": "python",
   "nbconvert_exporter": "python",
   "pygments_lexer": "ipython3",
   "version": "3.9.16"
  }
 },
 "nbformat": 4,
 "nbformat_minor": 5
}
